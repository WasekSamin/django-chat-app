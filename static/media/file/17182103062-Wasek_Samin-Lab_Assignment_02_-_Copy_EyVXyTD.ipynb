{
  "nbformat": 4,
  "nbformat_minor": 0,
  "metadata": {
    "colab": {
      "name": "Lab_Assignment_2.ipynb",
      "provenance": []
    },
    "kernelspec": {
      "name": "python3",
      "display_name": "Python 3"
    },
    "language_info": {
      "name": "python"
    }
  },
  "cells": [
    {
      "cell_type": "markdown",
      "source": [
        "# Lab Assignment: 2"
      ],
      "metadata": {
        "id": "4ZJcIzl8ZGYt"
      }
    },
    {
      "cell_type": "markdown",
      "source": [
        "Import Library"
      ],
      "metadata": {
        "id": "6MpkNC5PZxm0"
      }
    },
    {
      "cell_type": "code",
      "source": [
        "#Basic python library which need to import\n",
        "import pandas as pd\n",
        "import numpy as np\n",
        "\n",
        "#Date stuff\n",
        "from datetime import datetime\n",
        "from datetime import timedelta\n",
        "\n",
        "#Library for Nice graphing\n",
        "import seaborn as sns\n",
        "import matplotlib.pyplot as plt\n",
        "import statsmodels.formula.api as sn\n",
        "%matplotlib inline\n",
        "\n",
        "#Library for statistics operation\n",
        "import scipy.stats as stats\n",
        "\n",
        "# Date Time library\n",
        "from datetime import datetime\n",
        "\n",
        "#Machine learning Library\n",
        "import statsmodels.api as sm\n",
        "from sklearn import metrics\n",
        "from sklearn.model_selection import train_test_split\n",
        "from sklearn.linear_model import LinearRegression\n",
        "from sklearn.ensemble import RandomForestRegressor\n",
        "from sklearn.tree import DecisionTreeRegressor\n",
        "from sklearn.ensemble import AdaBoostRegressor\n",
        "from sklearn.ensemble import GradientBoostingRegressor\n",
        "from sklearn.svm import SVC, LinearSVC\n",
        "from sklearn.metrics import mean_squared_error as mse\n",
        "from sklearn.metrics import mean_absolute_error, mean_squared_error\n",
        "\n",
        "# Ignore warnings\n",
        "import warnings\n",
        "warnings.filterwarnings('ignore')\n",
        "\n",
        "# Settings\n",
        "import sys\n",
        "pd.set_option('display.max_columns', None)\n",
        "np.set_printoptions(threshold=sys.maxsize)\n",
        "np.set_printoptions(precision=3)\n",
        "sns.set(style=\"darkgrid\")\n",
        "plt.rcParams['axes.labelsize'] = 14\n",
        "plt.rcParams['xtick.labelsize'] = 12\n",
        "plt.rcParams['ytick.labelsize'] = 12"
      ],
      "metadata": {
        "id": "5GXtwAEcjKgy"
      },
      "execution_count": null,
      "outputs": []
    },
    {
      "cell_type": "markdown",
      "source": [
        "Import Data from Csv files"
      ],
      "metadata": {
        "id": "IbEwoulCj6gD"
      }
    },
    {
      "cell_type": "code",
      "source": [
        "# Importing training data set\n",
        "train = pd.read_csv(\"train.csv\")\n",
        "\n",
        "#Import Test Data\n",
        "test=pd.read_csv(\"test.csv\")\n",
        "\n",
        "# Import Store data set\n",
        "stores = pd.read_csv(\"stores.csv\")\n",
        "\n",
        "# Now import features data set\n",
        "feature = pd.read_csv(\"features.csv\")"
      ],
      "metadata": {
        "id": "u965BY3Nj309"
      },
      "execution_count": null,
      "outputs": []
    },
    {
      "cell_type": "markdown",
      "source": [
        "Merge the data sets:\n",
        "  -(train+Store+Feature)\n",
        "  -(test+Store+Feature)"
      ],
      "metadata": {
        "id": "QHfXeZUyj_dB"
      }
    },
    {
      "cell_type": "code",
      "source": [
        "# For Train data set\n",
        "train_bt = pd.merge(train,stores) \n",
        "train = pd.merge(train_bt,feature)\n",
        "\n",
        "#For test data set\n",
        "test_bt = pd.merge(test,stores)\n",
        "test= pd.merge(test_bt,feature)"
      ],
      "metadata": {
        "id": "b_F6X303kAIj"
      },
      "execution_count": null,
      "outputs": []
    },
    {
      "cell_type": "code",
      "source": [
        "train.head(2)"
      ],
      "metadata": {
        "colab": {
          "base_uri": "https://localhost:8080/",
          "height": 211
        },
        "id": "nE8GVVHdkDE4",
        "outputId": "060cbb46-9b63-4c36-a578-fc4e0b5c204b"
      },
      "execution_count": null,
      "outputs": [
        {
          "output_type": "execute_result",
          "data": {
            "text/plain": [
              "   Store  Dept        Date  Weekly_Sales  IsHoliday Type    Size  Temperature  \\\n",
              "0      1     1  2010-02-05      24924.50      False    A  151315        42.31   \n",
              "1      1     2  2010-02-05      50605.27      False    A  151315        42.31   \n",
              "\n",
              "   Fuel_Price  MarkDown1  MarkDown2  MarkDown3  MarkDown4  MarkDown5  \\\n",
              "0       2.572        NaN        NaN        NaN        NaN        NaN   \n",
              "1       2.572        NaN        NaN        NaN        NaN        NaN   \n",
              "\n",
              "          CPI  Unemployment  \n",
              "0  211.096358         8.106  \n",
              "1  211.096358         8.106  "
            ],
            "text/html": [
              "\n",
              "  <div id=\"df-a4d6a9c8-5024-488b-bc54-972ef96f2671\">\n",
              "    <div class=\"colab-df-container\">\n",
              "      <div>\n",
              "<style scoped>\n",
              "    .dataframe tbody tr th:only-of-type {\n",
              "        vertical-align: middle;\n",
              "    }\n",
              "\n",
              "    .dataframe tbody tr th {\n",
              "        vertical-align: top;\n",
              "    }\n",
              "\n",
              "    .dataframe thead th {\n",
              "        text-align: right;\n",
              "    }\n",
              "</style>\n",
              "<table border=\"1\" class=\"dataframe\">\n",
              "  <thead>\n",
              "    <tr style=\"text-align: right;\">\n",
              "      <th></th>\n",
              "      <th>Store</th>\n",
              "      <th>Dept</th>\n",
              "      <th>Date</th>\n",
              "      <th>Weekly_Sales</th>\n",
              "      <th>IsHoliday</th>\n",
              "      <th>Type</th>\n",
              "      <th>Size</th>\n",
              "      <th>Temperature</th>\n",
              "      <th>Fuel_Price</th>\n",
              "      <th>MarkDown1</th>\n",
              "      <th>MarkDown2</th>\n",
              "      <th>MarkDown3</th>\n",
              "      <th>MarkDown4</th>\n",
              "      <th>MarkDown5</th>\n",
              "      <th>CPI</th>\n",
              "      <th>Unemployment</th>\n",
              "    </tr>\n",
              "  </thead>\n",
              "  <tbody>\n",
              "    <tr>\n",
              "      <th>0</th>\n",
              "      <td>1</td>\n",
              "      <td>1</td>\n",
              "      <td>2010-02-05</td>\n",
              "      <td>24924.50</td>\n",
              "      <td>False</td>\n",
              "      <td>A</td>\n",
              "      <td>151315</td>\n",
              "      <td>42.31</td>\n",
              "      <td>2.572</td>\n",
              "      <td>NaN</td>\n",
              "      <td>NaN</td>\n",
              "      <td>NaN</td>\n",
              "      <td>NaN</td>\n",
              "      <td>NaN</td>\n",
              "      <td>211.096358</td>\n",
              "      <td>8.106</td>\n",
              "    </tr>\n",
              "    <tr>\n",
              "      <th>1</th>\n",
              "      <td>1</td>\n",
              "      <td>2</td>\n",
              "      <td>2010-02-05</td>\n",
              "      <td>50605.27</td>\n",
              "      <td>False</td>\n",
              "      <td>A</td>\n",
              "      <td>151315</td>\n",
              "      <td>42.31</td>\n",
              "      <td>2.572</td>\n",
              "      <td>NaN</td>\n",
              "      <td>NaN</td>\n",
              "      <td>NaN</td>\n",
              "      <td>NaN</td>\n",
              "      <td>NaN</td>\n",
              "      <td>211.096358</td>\n",
              "      <td>8.106</td>\n",
              "    </tr>\n",
              "  </tbody>\n",
              "</table>\n",
              "</div>\n",
              "      <button class=\"colab-df-convert\" onclick=\"convertToInteractive('df-a4d6a9c8-5024-488b-bc54-972ef96f2671')\"\n",
              "              title=\"Convert this dataframe to an interactive table.\"\n",
              "              style=\"display:none;\">\n",
              "        \n",
              "  <svg xmlns=\"http://www.w3.org/2000/svg\" height=\"24px\"viewBox=\"0 0 24 24\"\n",
              "       width=\"24px\">\n",
              "    <path d=\"M0 0h24v24H0V0z\" fill=\"none\"/>\n",
              "    <path d=\"M18.56 5.44l.94 2.06.94-2.06 2.06-.94-2.06-.94-.94-2.06-.94 2.06-2.06.94zm-11 1L8.5 8.5l.94-2.06 2.06-.94-2.06-.94L8.5 2.5l-.94 2.06-2.06.94zm10 10l.94 2.06.94-2.06 2.06-.94-2.06-.94-.94-2.06-.94 2.06-2.06.94z\"/><path d=\"M17.41 7.96l-1.37-1.37c-.4-.4-.92-.59-1.43-.59-.52 0-1.04.2-1.43.59L10.3 9.45l-7.72 7.72c-.78.78-.78 2.05 0 2.83L4 21.41c.39.39.9.59 1.41.59.51 0 1.02-.2 1.41-.59l7.78-7.78 2.81-2.81c.8-.78.8-2.07 0-2.86zM5.41 20L4 18.59l7.72-7.72 1.47 1.35L5.41 20z\"/>\n",
              "  </svg>\n",
              "      </button>\n",
              "      \n",
              "  <style>\n",
              "    .colab-df-container {\n",
              "      display:flex;\n",
              "      flex-wrap:wrap;\n",
              "      gap: 12px;\n",
              "    }\n",
              "\n",
              "    .colab-df-convert {\n",
              "      background-color: #E8F0FE;\n",
              "      border: none;\n",
              "      border-radius: 50%;\n",
              "      cursor: pointer;\n",
              "      display: none;\n",
              "      fill: #1967D2;\n",
              "      height: 32px;\n",
              "      padding: 0 0 0 0;\n",
              "      width: 32px;\n",
              "    }\n",
              "\n",
              "    .colab-df-convert:hover {\n",
              "      background-color: #E2EBFA;\n",
              "      box-shadow: 0px 1px 2px rgba(60, 64, 67, 0.3), 0px 1px 3px 1px rgba(60, 64, 67, 0.15);\n",
              "      fill: #174EA6;\n",
              "    }\n",
              "\n",
              "    [theme=dark] .colab-df-convert {\n",
              "      background-color: #3B4455;\n",
              "      fill: #D2E3FC;\n",
              "    }\n",
              "\n",
              "    [theme=dark] .colab-df-convert:hover {\n",
              "      background-color: #434B5C;\n",
              "      box-shadow: 0px 1px 3px 1px rgba(0, 0, 0, 0.15);\n",
              "      filter: drop-shadow(0px 1px 2px rgba(0, 0, 0, 0.3));\n",
              "      fill: #FFFFFF;\n",
              "    }\n",
              "  </style>\n",
              "\n",
              "      <script>\n",
              "        const buttonEl =\n",
              "          document.querySelector('#df-a4d6a9c8-5024-488b-bc54-972ef96f2671 button.colab-df-convert');\n",
              "        buttonEl.style.display =\n",
              "          google.colab.kernel.accessAllowed ? 'block' : 'none';\n",
              "\n",
              "        async function convertToInteractive(key) {\n",
              "          const element = document.querySelector('#df-a4d6a9c8-5024-488b-bc54-972ef96f2671');\n",
              "          const dataTable =\n",
              "            await google.colab.kernel.invokeFunction('convertToInteractive',\n",
              "                                                     [key], {});\n",
              "          if (!dataTable) return;\n",
              "\n",
              "          const docLinkHtml = 'Like what you see? Visit the ' +\n",
              "            '<a target=\"_blank\" href=https://colab.research.google.com/notebooks/data_table.ipynb>data table notebook</a>'\n",
              "            + ' to learn more about interactive tables.';\n",
              "          element.innerHTML = '';\n",
              "          dataTable['output_type'] = 'display_data';\n",
              "          await google.colab.output.renderOutput(dataTable, element);\n",
              "          const docLink = document.createElement('div');\n",
              "          docLink.innerHTML = docLinkHtml;\n",
              "          element.appendChild(docLink);\n",
              "        }\n",
              "      </script>\n",
              "    </div>\n",
              "  </div>\n",
              "  "
            ]
          },
          "metadata": {},
          "execution_count": 7
        }
      ]
    },
    {
      "cell_type": "code",
      "source": [
        "test.head(2)"
      ],
      "metadata": {
        "colab": {
          "base_uri": "https://localhost:8080/",
          "height": 211
        },
        "id": "dKchIXeTkFze",
        "outputId": "a7b6a518-8879-42ca-b6a7-11b631eeaaf3"
      },
      "execution_count": null,
      "outputs": [
        {
          "output_type": "execute_result",
          "data": {
            "text/plain": [
              "   Store  Dept        Date  IsHoliday Type    Size  Temperature  Fuel_Price  \\\n",
              "0      1     1  2012-11-02      False    A  151315        55.32       3.386   \n",
              "1      1     2  2012-11-02      False    A  151315        55.32       3.386   \n",
              "\n",
              "   MarkDown1  MarkDown2  MarkDown3  MarkDown4  MarkDown5         CPI  \\\n",
              "0    6766.44     5147.7      50.82     3639.9    2737.42  223.462779   \n",
              "1    6766.44     5147.7      50.82     3639.9    2737.42  223.462779   \n",
              "\n",
              "   Unemployment  \n",
              "0         6.573  \n",
              "1         6.573  "
            ],
            "text/html": [
              "\n",
              "  <div id=\"df-d1a40749-5cb9-452c-8f25-d176b42acc29\">\n",
              "    <div class=\"colab-df-container\">\n",
              "      <div>\n",
              "<style scoped>\n",
              "    .dataframe tbody tr th:only-of-type {\n",
              "        vertical-align: middle;\n",
              "    }\n",
              "\n",
              "    .dataframe tbody tr th {\n",
              "        vertical-align: top;\n",
              "    }\n",
              "\n",
              "    .dataframe thead th {\n",
              "        text-align: right;\n",
              "    }\n",
              "</style>\n",
              "<table border=\"1\" class=\"dataframe\">\n",
              "  <thead>\n",
              "    <tr style=\"text-align: right;\">\n",
              "      <th></th>\n",
              "      <th>Store</th>\n",
              "      <th>Dept</th>\n",
              "      <th>Date</th>\n",
              "      <th>IsHoliday</th>\n",
              "      <th>Type</th>\n",
              "      <th>Size</th>\n",
              "      <th>Temperature</th>\n",
              "      <th>Fuel_Price</th>\n",
              "      <th>MarkDown1</th>\n",
              "      <th>MarkDown2</th>\n",
              "      <th>MarkDown3</th>\n",
              "      <th>MarkDown4</th>\n",
              "      <th>MarkDown5</th>\n",
              "      <th>CPI</th>\n",
              "      <th>Unemployment</th>\n",
              "    </tr>\n",
              "  </thead>\n",
              "  <tbody>\n",
              "    <tr>\n",
              "      <th>0</th>\n",
              "      <td>1</td>\n",
              "      <td>1</td>\n",
              "      <td>2012-11-02</td>\n",
              "      <td>False</td>\n",
              "      <td>A</td>\n",
              "      <td>151315</td>\n",
              "      <td>55.32</td>\n",
              "      <td>3.386</td>\n",
              "      <td>6766.44</td>\n",
              "      <td>5147.7</td>\n",
              "      <td>50.82</td>\n",
              "      <td>3639.9</td>\n",
              "      <td>2737.42</td>\n",
              "      <td>223.462779</td>\n",
              "      <td>6.573</td>\n",
              "    </tr>\n",
              "    <tr>\n",
              "      <th>1</th>\n",
              "      <td>1</td>\n",
              "      <td>2</td>\n",
              "      <td>2012-11-02</td>\n",
              "      <td>False</td>\n",
              "      <td>A</td>\n",
              "      <td>151315</td>\n",
              "      <td>55.32</td>\n",
              "      <td>3.386</td>\n",
              "      <td>6766.44</td>\n",
              "      <td>5147.7</td>\n",
              "      <td>50.82</td>\n",
              "      <td>3639.9</td>\n",
              "      <td>2737.42</td>\n",
              "      <td>223.462779</td>\n",
              "      <td>6.573</td>\n",
              "    </tr>\n",
              "  </tbody>\n",
              "</table>\n",
              "</div>\n",
              "      <button class=\"colab-df-convert\" onclick=\"convertToInteractive('df-d1a40749-5cb9-452c-8f25-d176b42acc29')\"\n",
              "              title=\"Convert this dataframe to an interactive table.\"\n",
              "              style=\"display:none;\">\n",
              "        \n",
              "  <svg xmlns=\"http://www.w3.org/2000/svg\" height=\"24px\"viewBox=\"0 0 24 24\"\n",
              "       width=\"24px\">\n",
              "    <path d=\"M0 0h24v24H0V0z\" fill=\"none\"/>\n",
              "    <path d=\"M18.56 5.44l.94 2.06.94-2.06 2.06-.94-2.06-.94-.94-2.06-.94 2.06-2.06.94zm-11 1L8.5 8.5l.94-2.06 2.06-.94-2.06-.94L8.5 2.5l-.94 2.06-2.06.94zm10 10l.94 2.06.94-2.06 2.06-.94-2.06-.94-.94-2.06-.94 2.06-2.06.94z\"/><path d=\"M17.41 7.96l-1.37-1.37c-.4-.4-.92-.59-1.43-.59-.52 0-1.04.2-1.43.59L10.3 9.45l-7.72 7.72c-.78.78-.78 2.05 0 2.83L4 21.41c.39.39.9.59 1.41.59.51 0 1.02-.2 1.41-.59l7.78-7.78 2.81-2.81c.8-.78.8-2.07 0-2.86zM5.41 20L4 18.59l7.72-7.72 1.47 1.35L5.41 20z\"/>\n",
              "  </svg>\n",
              "      </button>\n",
              "      \n",
              "  <style>\n",
              "    .colab-df-container {\n",
              "      display:flex;\n",
              "      flex-wrap:wrap;\n",
              "      gap: 12px;\n",
              "    }\n",
              "\n",
              "    .colab-df-convert {\n",
              "      background-color: #E8F0FE;\n",
              "      border: none;\n",
              "      border-radius: 50%;\n",
              "      cursor: pointer;\n",
              "      display: none;\n",
              "      fill: #1967D2;\n",
              "      height: 32px;\n",
              "      padding: 0 0 0 0;\n",
              "      width: 32px;\n",
              "    }\n",
              "\n",
              "    .colab-df-convert:hover {\n",
              "      background-color: #E2EBFA;\n",
              "      box-shadow: 0px 1px 2px rgba(60, 64, 67, 0.3), 0px 1px 3px 1px rgba(60, 64, 67, 0.15);\n",
              "      fill: #174EA6;\n",
              "    }\n",
              "\n",
              "    [theme=dark] .colab-df-convert {\n",
              "      background-color: #3B4455;\n",
              "      fill: #D2E3FC;\n",
              "    }\n",
              "\n",
              "    [theme=dark] .colab-df-convert:hover {\n",
              "      background-color: #434B5C;\n",
              "      box-shadow: 0px 1px 3px 1px rgba(0, 0, 0, 0.15);\n",
              "      filter: drop-shadow(0px 1px 2px rgba(0, 0, 0, 0.3));\n",
              "      fill: #FFFFFF;\n",
              "    }\n",
              "  </style>\n",
              "\n",
              "      <script>\n",
              "        const buttonEl =\n",
              "          document.querySelector('#df-d1a40749-5cb9-452c-8f25-d176b42acc29 button.colab-df-convert');\n",
              "        buttonEl.style.display =\n",
              "          google.colab.kernel.accessAllowed ? 'block' : 'none';\n",
              "\n",
              "        async function convertToInteractive(key) {\n",
              "          const element = document.querySelector('#df-d1a40749-5cb9-452c-8f25-d176b42acc29');\n",
              "          const dataTable =\n",
              "            await google.colab.kernel.invokeFunction('convertToInteractive',\n",
              "                                                     [key], {});\n",
              "          if (!dataTable) return;\n",
              "\n",
              "          const docLinkHtml = 'Like what you see? Visit the ' +\n",
              "            '<a target=\"_blank\" href=https://colab.research.google.com/notebooks/data_table.ipynb>data table notebook</a>'\n",
              "            + ' to learn more about interactive tables.';\n",
              "          element.innerHTML = '';\n",
              "          dataTable['output_type'] = 'display_data';\n",
              "          await google.colab.output.renderOutput(dataTable, element);\n",
              "          const docLink = document.createElement('div');\n",
              "          docLink.innerHTML = docLinkHtml;\n",
              "          element.appendChild(docLink);\n",
              "        }\n",
              "      </script>\n",
              "    </div>\n",
              "  </div>\n",
              "  "
            ]
          },
          "metadata": {},
          "execution_count": 8
        }
      ]
    },
    {
      "cell_type": "code",
      "source": [
        "print (train.info())\n",
        "print (\"*****************************************\")\n",
        "print (test.info())"
      ],
      "metadata": {
        "colab": {
          "base_uri": "https://localhost:8080/"
        },
        "id": "_VrpoNCekLHQ",
        "outputId": "688f15c8-4315-43b5-9f49-1be9cef93b58"
      },
      "execution_count": null,
      "outputs": [
        {
          "output_type": "stream",
          "name": "stdout",
          "text": [
            "<class 'pandas.core.frame.DataFrame'>\n",
            "Int64Index: 421570 entries, 0 to 421569\n",
            "Data columns (total 16 columns):\n",
            " #   Column        Non-Null Count   Dtype  \n",
            "---  ------        --------------   -----  \n",
            " 0   Store         421570 non-null  int64  \n",
            " 1   Dept          421570 non-null  int64  \n",
            " 2   Date          421570 non-null  object \n",
            " 3   Weekly_Sales  421570 non-null  float64\n",
            " 4   IsHoliday     421570 non-null  bool   \n",
            " 5   Type          421570 non-null  object \n",
            " 6   Size          421570 non-null  int64  \n",
            " 7   Temperature   421570 non-null  float64\n",
            " 8   Fuel_Price    421570 non-null  float64\n",
            " 9   MarkDown1     150681 non-null  float64\n",
            " 10  MarkDown2     111248 non-null  float64\n",
            " 11  MarkDown3     137091 non-null  float64\n",
            " 12  MarkDown4     134967 non-null  float64\n",
            " 13  MarkDown5     151432 non-null  float64\n",
            " 14  CPI           421570 non-null  float64\n",
            " 15  Unemployment  421570 non-null  float64\n",
            "dtypes: bool(1), float64(10), int64(3), object(2)\n",
            "memory usage: 51.9+ MB\n",
            "None\n",
            "*****************************************\n",
            "<class 'pandas.core.frame.DataFrame'>\n",
            "Int64Index: 115064 entries, 0 to 115063\n",
            "Data columns (total 15 columns):\n",
            " #   Column        Non-Null Count   Dtype  \n",
            "---  ------        --------------   -----  \n",
            " 0   Store         115064 non-null  int64  \n",
            " 1   Dept          115064 non-null  int64  \n",
            " 2   Date          115064 non-null  object \n",
            " 3   IsHoliday     115064 non-null  bool   \n",
            " 4   Type          115064 non-null  object \n",
            " 5   Size          115064 non-null  int64  \n",
            " 6   Temperature   115064 non-null  float64\n",
            " 7   Fuel_Price    115064 non-null  float64\n",
            " 8   MarkDown1     114915 non-null  float64\n",
            " 9   MarkDown2     86437 non-null   float64\n",
            " 10  MarkDown3     105235 non-null  float64\n",
            " 11  MarkDown4     102176 non-null  float64\n",
            " 12  MarkDown5     115064 non-null  float64\n",
            " 13  CPI           76902 non-null   float64\n",
            " 14  Unemployment  76902 non-null   float64\n",
            "dtypes: bool(1), float64(9), int64(3), object(2)\n",
            "memory usage: 13.3+ MB\n",
            "None\n"
          ]
        }
      ]
    },
    {
      "cell_type": "markdown",
      "source": [
        "Select only positive weekly sales"
      ],
      "metadata": {
        "id": "D156NJekkQvk"
      }
    },
    {
      "cell_type": "code",
      "source": [
        "# tale only those values whose sales is positive. \n",
        "train = train[train['Weekly_Sales']>0]"
      ],
      "metadata": {
        "id": "QDXDwfQ6kOfs"
      },
      "execution_count": null,
      "outputs": []
    },
    {
      "cell_type": "markdown",
      "source": [
        "Data Description:\n",
        "1. Training Data"
      ],
      "metadata": {
        "id": "6onLGMigkVs8"
      }
    },
    {
      "cell_type": "code",
      "source": [
        "numeric_var_train=[key for key in dict(train.dtypes) if dict(train.dtypes)[key] in ['float64', 'int64', 'float32', 'int32']]\n",
        "cat_var_train=[key for key in dict(train.dtypes) if dict(train.dtypes)[key] in ['object']]\n",
        "\n",
        "# Train Numerical Data\n",
        "train_num=train[numeric_var_train]\n",
        "\n",
        "# Train Categorical Data\n",
        "train_cat=train[cat_var_train]\n",
        "\n",
        "print (numeric_var_train)\n",
        "print (cat_var_train)"
      ],
      "metadata": {
        "colab": {
          "base_uri": "https://localhost:8080/"
        },
        "id": "Rs85YK67kT8q",
        "outputId": "6f65cca8-da6a-47ac-e37a-f1a95ad6e273"
      },
      "execution_count": null,
      "outputs": [
        {
          "output_type": "stream",
          "name": "stdout",
          "text": [
            "['Store', 'Dept', 'Weekly_Sales', 'Size', 'Temperature', 'Fuel_Price', 'MarkDown1', 'MarkDown2', 'MarkDown3', 'MarkDown4', 'MarkDown5', 'CPI', 'Unemployment']\n",
            "['Date', 'Type']\n"
          ]
        }
      ]
    },
    {
      "cell_type": "code",
      "source": [
        "# Use a general function that returns multiple values\n",
        "def var_summary(x):\n",
        "    return pd.Series([x.count(), x.isnull().sum(), x.sum(), x.mean(), x.median(),  x.std(), x.var(), x.min(), x.dropna().quantile(0.01), x.dropna().quantile(0.05),x.dropna().quantile(0.10),x.dropna().quantile(0.25),x.dropna().quantile(0.50),x.dropna().quantile(0.75), x.dropna().quantile(0.90),x.dropna().quantile(0.95), x.dropna().quantile(0.99),x.max()], \n",
        "                  index=['N', 'NMISS', 'SUM', 'MEAN','MEDIAN', 'STD', 'VAR', 'MIN', 'P1' , 'P5' ,'P10' ,'P25' ,'P50' ,'P75' ,'P90' ,'P95' ,'P99' ,'MAX'])"
      ],
      "metadata": {
        "id": "rEZizF6DkY9V"
      },
      "execution_count": null,
      "outputs": []
    },
    {
      "cell_type": "code",
      "source": [
        "num_summary=train_num.apply(lambda x: var_summary(x)).T\n",
        "num_summary"
      ],
      "metadata": {
        "colab": {
          "base_uri": "https://localhost:8080/",
          "height": 521
        },
        "id": "SbD8-8ZRkcwh",
        "outputId": "2dfeb1e7-c981-4466-916d-ebee08819ad7"
      },
      "execution_count": null,
      "outputs": [
        {
          "output_type": "execute_result",
          "data": {
            "text/plain": [
              "                     N     NMISS           SUM           MEAN         MEDIAN  \\\n",
              "Store         420212.0       0.0  9.326862e+06      22.195611      22.000000   \n",
              "Dept          420212.0       0.0  1.859073e+07      44.241309      37.000000   \n",
              "Weekly_Sales  420212.0       0.0  6.737307e+09   16033.114591    7661.700000   \n",
              "Size          420212.0       0.0  5.746388e+10  136749.732787  140167.000000   \n",
              "Temperature   420212.0       0.0  2.525079e+07      60.090599      62.090000   \n",
              "Fuel_Price    420212.0       0.0  1.412286e+06       3.360890       3.452000   \n",
              "MarkDown1     150181.0  270031.0  1.088485e+09    7247.821269    5347.450000   \n",
              "MarkDown2     110904.0  309308.0  3.693265e+08    3330.146158     192.000000   \n",
              "MarkDown3     136651.0  283561.0  1.970147e+08    1441.736203      24.600000   \n",
              "MarkDown4     134518.0  285694.0  4.553141e+08    3384.782267    1481.310000   \n",
              "MarkDown5     150929.0  269283.0  6.987306e+08    4629.531870    3359.450000   \n",
              "CPI           420212.0       0.0  7.194555e+07     171.212496     182.350989   \n",
              "Unemployment  420212.0       0.0  3.344888e+06       7.960000       7.866000   \n",
              "\n",
              "                       STD           VAR        MIN            P1  \\\n",
              "Store            12.787236  1.635134e+02      1.000      1.000000   \n",
              "Dept             30.508819  9.307880e+02      1.000      1.000000   \n",
              "Weekly_Sales  22729.492116  5.166298e+08      0.010      7.440000   \n",
              "Size          60993.084568  3.720156e+09  34875.000  34875.000000   \n",
              "Temperature      18.447857  3.403234e+02     -2.060     18.300000   \n",
              "Fuel_Price        0.458519  2.102398e-01      2.472      2.565000   \n",
              "MarkDown1      8293.028741  6.877433e+07      0.270     17.760000   \n",
              "MarkDown2      9460.395025  8.949907e+07   -265.760     -0.990000   \n",
              "MarkDown3      9631.968459  9.277482e+07    -29.100      0.060000   \n",
              "MarkDown4      6295.136952  3.962875e+07      0.220      3.970000   \n",
              "MarkDown5      5960.171711  3.552365e+07    135.160    351.970000   \n",
              "CPI              39.162445  1.533697e+03    126.064    126.111903   \n",
              "Unemployment      1.863879  3.474045e+00      3.879      4.156000   \n",
              "\n",
              "                        P5           P10           P25            P50  \\\n",
              "Store             3.000000      5.000000     11.000000      22.000000   \n",
              "Dept              4.000000      7.000000     18.000000      37.000000   \n",
              "Weekly_Sales     67.551000    311.186000   2120.130000    7661.700000   \n",
              "Size          39690.000000  39910.000000  93638.000000  140167.000000   \n",
              "Temperature      27.310000     33.980000     46.680000      62.090000   \n",
              "Fuel_Price        2.653000      2.720000      2.933000       3.452000   \n",
              "MarkDown1       149.190000    375.200000   2240.270000    5347.450000   \n",
              "MarkDown2         1.950000      6.980000     41.600000     192.000000   \n",
              "MarkDown3         0.650000      1.650000      5.100000      24.600000   \n",
              "MarkDown4        28.760000    108.710000    504.220000    1481.310000   \n",
              "MarkDown5       715.520000   1070.830000   1878.440000    3359.450000   \n",
              "CPI             126.496258    128.823806    132.022667     182.350989   \n",
              "Unemployment      5.326000      5.965000      6.891000       7.866000   \n",
              "\n",
              "                        P75            P90            P95            P99  \\\n",
              "Store             33.000000      40.000000      43.000000      45.000000   \n",
              "Dept              74.000000      92.000000      95.000000      98.000000   \n",
              "Weekly_Sales   20271.265000   42922.748000   61275.522000  106566.351400   \n",
              "Size          202505.000000  204184.000000  206302.000000  219622.000000   \n",
              "Temperature       74.280000      83.580000      87.270000      92.810000   \n",
              "Fuel_Price         3.738000       3.917000       4.029000       4.202000   \n",
              "MarkDown1       9210.900000   15282.470000   21801.350000   41524.030000   \n",
              "MarkDown2       1926.940000    8549.740000   16497.470000   50366.600000   \n",
              "MarkDown3        103.990000     400.090000    1059.900000   63143.290000   \n",
              "MarkDown4       3595.040000    7871.420000   12645.960000   35785.260000   \n",
              "MarkDown5       5563.800000    8337.700000   11294.440000   27754.230000   \n",
              "CPI              212.445487     219.445767     221.941558     225.473509   \n",
              "Unemployment       8.567000       9.816000      12.187000      14.180000   \n",
              "\n",
              "                        MAX  \n",
              "Store             45.000000  \n",
              "Dept              99.000000  \n",
              "Weekly_Sales  693099.360000  \n",
              "Size          219622.000000  \n",
              "Temperature      100.140000  \n",
              "Fuel_Price         4.468000  \n",
              "MarkDown1      88646.760000  \n",
              "MarkDown2     104519.540000  \n",
              "MarkDown3     141630.610000  \n",
              "MarkDown4      67474.850000  \n",
              "MarkDown5     108519.280000  \n",
              "CPI              227.232807  \n",
              "Unemployment      14.313000  "
            ],
            "text/html": [
              "\n",
              "  <div id=\"df-e44f13bb-da51-4f44-a64f-67820132deb7\">\n",
              "    <div class=\"colab-df-container\">\n",
              "      <div>\n",
              "<style scoped>\n",
              "    .dataframe tbody tr th:only-of-type {\n",
              "        vertical-align: middle;\n",
              "    }\n",
              "\n",
              "    .dataframe tbody tr th {\n",
              "        vertical-align: top;\n",
              "    }\n",
              "\n",
              "    .dataframe thead th {\n",
              "        text-align: right;\n",
              "    }\n",
              "</style>\n",
              "<table border=\"1\" class=\"dataframe\">\n",
              "  <thead>\n",
              "    <tr style=\"text-align: right;\">\n",
              "      <th></th>\n",
              "      <th>N</th>\n",
              "      <th>NMISS</th>\n",
              "      <th>SUM</th>\n",
              "      <th>MEAN</th>\n",
              "      <th>MEDIAN</th>\n",
              "      <th>STD</th>\n",
              "      <th>VAR</th>\n",
              "      <th>MIN</th>\n",
              "      <th>P1</th>\n",
              "      <th>P5</th>\n",
              "      <th>P10</th>\n",
              "      <th>P25</th>\n",
              "      <th>P50</th>\n",
              "      <th>P75</th>\n",
              "      <th>P90</th>\n",
              "      <th>P95</th>\n",
              "      <th>P99</th>\n",
              "      <th>MAX</th>\n",
              "    </tr>\n",
              "  </thead>\n",
              "  <tbody>\n",
              "    <tr>\n",
              "      <th>Store</th>\n",
              "      <td>420212.0</td>\n",
              "      <td>0.0</td>\n",
              "      <td>9.326862e+06</td>\n",
              "      <td>22.195611</td>\n",
              "      <td>22.000000</td>\n",
              "      <td>12.787236</td>\n",
              "      <td>1.635134e+02</td>\n",
              "      <td>1.000</td>\n",
              "      <td>1.000000</td>\n",
              "      <td>3.000000</td>\n",
              "      <td>5.000000</td>\n",
              "      <td>11.000000</td>\n",
              "      <td>22.000000</td>\n",
              "      <td>33.000000</td>\n",
              "      <td>40.000000</td>\n",
              "      <td>43.000000</td>\n",
              "      <td>45.000000</td>\n",
              "      <td>45.000000</td>\n",
              "    </tr>\n",
              "    <tr>\n",
              "      <th>Dept</th>\n",
              "      <td>420212.0</td>\n",
              "      <td>0.0</td>\n",
              "      <td>1.859073e+07</td>\n",
              "      <td>44.241309</td>\n",
              "      <td>37.000000</td>\n",
              "      <td>30.508819</td>\n",
              "      <td>9.307880e+02</td>\n",
              "      <td>1.000</td>\n",
              "      <td>1.000000</td>\n",
              "      <td>4.000000</td>\n",
              "      <td>7.000000</td>\n",
              "      <td>18.000000</td>\n",
              "      <td>37.000000</td>\n",
              "      <td>74.000000</td>\n",
              "      <td>92.000000</td>\n",
              "      <td>95.000000</td>\n",
              "      <td>98.000000</td>\n",
              "      <td>99.000000</td>\n",
              "    </tr>\n",
              "    <tr>\n",
              "      <th>Weekly_Sales</th>\n",
              "      <td>420212.0</td>\n",
              "      <td>0.0</td>\n",
              "      <td>6.737307e+09</td>\n",
              "      <td>16033.114591</td>\n",
              "      <td>7661.700000</td>\n",
              "      <td>22729.492116</td>\n",
              "      <td>5.166298e+08</td>\n",
              "      <td>0.010</td>\n",
              "      <td>7.440000</td>\n",
              "      <td>67.551000</td>\n",
              "      <td>311.186000</td>\n",
              "      <td>2120.130000</td>\n",
              "      <td>7661.700000</td>\n",
              "      <td>20271.265000</td>\n",
              "      <td>42922.748000</td>\n",
              "      <td>61275.522000</td>\n",
              "      <td>106566.351400</td>\n",
              "      <td>693099.360000</td>\n",
              "    </tr>\n",
              "    <tr>\n",
              "      <th>Size</th>\n",
              "      <td>420212.0</td>\n",
              "      <td>0.0</td>\n",
              "      <td>5.746388e+10</td>\n",
              "      <td>136749.732787</td>\n",
              "      <td>140167.000000</td>\n",
              "      <td>60993.084568</td>\n",
              "      <td>3.720156e+09</td>\n",
              "      <td>34875.000</td>\n",
              "      <td>34875.000000</td>\n",
              "      <td>39690.000000</td>\n",
              "      <td>39910.000000</td>\n",
              "      <td>93638.000000</td>\n",
              "      <td>140167.000000</td>\n",
              "      <td>202505.000000</td>\n",
              "      <td>204184.000000</td>\n",
              "      <td>206302.000000</td>\n",
              "      <td>219622.000000</td>\n",
              "      <td>219622.000000</td>\n",
              "    </tr>\n",
              "    <tr>\n",
              "      <th>Temperature</th>\n",
              "      <td>420212.0</td>\n",
              "      <td>0.0</td>\n",
              "      <td>2.525079e+07</td>\n",
              "      <td>60.090599</td>\n",
              "      <td>62.090000</td>\n",
              "      <td>18.447857</td>\n",
              "      <td>3.403234e+02</td>\n",
              "      <td>-2.060</td>\n",
              "      <td>18.300000</td>\n",
              "      <td>27.310000</td>\n",
              "      <td>33.980000</td>\n",
              "      <td>46.680000</td>\n",
              "      <td>62.090000</td>\n",
              "      <td>74.280000</td>\n",
              "      <td>83.580000</td>\n",
              "      <td>87.270000</td>\n",
              "      <td>92.810000</td>\n",
              "      <td>100.140000</td>\n",
              "    </tr>\n",
              "    <tr>\n",
              "      <th>Fuel_Price</th>\n",
              "      <td>420212.0</td>\n",
              "      <td>0.0</td>\n",
              "      <td>1.412286e+06</td>\n",
              "      <td>3.360890</td>\n",
              "      <td>3.452000</td>\n",
              "      <td>0.458519</td>\n",
              "      <td>2.102398e-01</td>\n",
              "      <td>2.472</td>\n",
              "      <td>2.565000</td>\n",
              "      <td>2.653000</td>\n",
              "      <td>2.720000</td>\n",
              "      <td>2.933000</td>\n",
              "      <td>3.452000</td>\n",
              "      <td>3.738000</td>\n",
              "      <td>3.917000</td>\n",
              "      <td>4.029000</td>\n",
              "      <td>4.202000</td>\n",
              "      <td>4.468000</td>\n",
              "    </tr>\n",
              "    <tr>\n",
              "      <th>MarkDown1</th>\n",
              "      <td>150181.0</td>\n",
              "      <td>270031.0</td>\n",
              "      <td>1.088485e+09</td>\n",
              "      <td>7247.821269</td>\n",
              "      <td>5347.450000</td>\n",
              "      <td>8293.028741</td>\n",
              "      <td>6.877433e+07</td>\n",
              "      <td>0.270</td>\n",
              "      <td>17.760000</td>\n",
              "      <td>149.190000</td>\n",
              "      <td>375.200000</td>\n",
              "      <td>2240.270000</td>\n",
              "      <td>5347.450000</td>\n",
              "      <td>9210.900000</td>\n",
              "      <td>15282.470000</td>\n",
              "      <td>21801.350000</td>\n",
              "      <td>41524.030000</td>\n",
              "      <td>88646.760000</td>\n",
              "    </tr>\n",
              "    <tr>\n",
              "      <th>MarkDown2</th>\n",
              "      <td>110904.0</td>\n",
              "      <td>309308.0</td>\n",
              "      <td>3.693265e+08</td>\n",
              "      <td>3330.146158</td>\n",
              "      <td>192.000000</td>\n",
              "      <td>9460.395025</td>\n",
              "      <td>8.949907e+07</td>\n",
              "      <td>-265.760</td>\n",
              "      <td>-0.990000</td>\n",
              "      <td>1.950000</td>\n",
              "      <td>6.980000</td>\n",
              "      <td>41.600000</td>\n",
              "      <td>192.000000</td>\n",
              "      <td>1926.940000</td>\n",
              "      <td>8549.740000</td>\n",
              "      <td>16497.470000</td>\n",
              "      <td>50366.600000</td>\n",
              "      <td>104519.540000</td>\n",
              "    </tr>\n",
              "    <tr>\n",
              "      <th>MarkDown3</th>\n",
              "      <td>136651.0</td>\n",
              "      <td>283561.0</td>\n",
              "      <td>1.970147e+08</td>\n",
              "      <td>1441.736203</td>\n",
              "      <td>24.600000</td>\n",
              "      <td>9631.968459</td>\n",
              "      <td>9.277482e+07</td>\n",
              "      <td>-29.100</td>\n",
              "      <td>0.060000</td>\n",
              "      <td>0.650000</td>\n",
              "      <td>1.650000</td>\n",
              "      <td>5.100000</td>\n",
              "      <td>24.600000</td>\n",
              "      <td>103.990000</td>\n",
              "      <td>400.090000</td>\n",
              "      <td>1059.900000</td>\n",
              "      <td>63143.290000</td>\n",
              "      <td>141630.610000</td>\n",
              "    </tr>\n",
              "    <tr>\n",
              "      <th>MarkDown4</th>\n",
              "      <td>134518.0</td>\n",
              "      <td>285694.0</td>\n",
              "      <td>4.553141e+08</td>\n",
              "      <td>3384.782267</td>\n",
              "      <td>1481.310000</td>\n",
              "      <td>6295.136952</td>\n",
              "      <td>3.962875e+07</td>\n",
              "      <td>0.220</td>\n",
              "      <td>3.970000</td>\n",
              "      <td>28.760000</td>\n",
              "      <td>108.710000</td>\n",
              "      <td>504.220000</td>\n",
              "      <td>1481.310000</td>\n",
              "      <td>3595.040000</td>\n",
              "      <td>7871.420000</td>\n",
              "      <td>12645.960000</td>\n",
              "      <td>35785.260000</td>\n",
              "      <td>67474.850000</td>\n",
              "    </tr>\n",
              "    <tr>\n",
              "      <th>MarkDown5</th>\n",
              "      <td>150929.0</td>\n",
              "      <td>269283.0</td>\n",
              "      <td>6.987306e+08</td>\n",
              "      <td>4629.531870</td>\n",
              "      <td>3359.450000</td>\n",
              "      <td>5960.171711</td>\n",
              "      <td>3.552365e+07</td>\n",
              "      <td>135.160</td>\n",
              "      <td>351.970000</td>\n",
              "      <td>715.520000</td>\n",
              "      <td>1070.830000</td>\n",
              "      <td>1878.440000</td>\n",
              "      <td>3359.450000</td>\n",
              "      <td>5563.800000</td>\n",
              "      <td>8337.700000</td>\n",
              "      <td>11294.440000</td>\n",
              "      <td>27754.230000</td>\n",
              "      <td>108519.280000</td>\n",
              "    </tr>\n",
              "    <tr>\n",
              "      <th>CPI</th>\n",
              "      <td>420212.0</td>\n",
              "      <td>0.0</td>\n",
              "      <td>7.194555e+07</td>\n",
              "      <td>171.212496</td>\n",
              "      <td>182.350989</td>\n",
              "      <td>39.162445</td>\n",
              "      <td>1.533697e+03</td>\n",
              "      <td>126.064</td>\n",
              "      <td>126.111903</td>\n",
              "      <td>126.496258</td>\n",
              "      <td>128.823806</td>\n",
              "      <td>132.022667</td>\n",
              "      <td>182.350989</td>\n",
              "      <td>212.445487</td>\n",
              "      <td>219.445767</td>\n",
              "      <td>221.941558</td>\n",
              "      <td>225.473509</td>\n",
              "      <td>227.232807</td>\n",
              "    </tr>\n",
              "    <tr>\n",
              "      <th>Unemployment</th>\n",
              "      <td>420212.0</td>\n",
              "      <td>0.0</td>\n",
              "      <td>3.344888e+06</td>\n",
              "      <td>7.960000</td>\n",
              "      <td>7.866000</td>\n",
              "      <td>1.863879</td>\n",
              "      <td>3.474045e+00</td>\n",
              "      <td>3.879</td>\n",
              "      <td>4.156000</td>\n",
              "      <td>5.326000</td>\n",
              "      <td>5.965000</td>\n",
              "      <td>6.891000</td>\n",
              "      <td>7.866000</td>\n",
              "      <td>8.567000</td>\n",
              "      <td>9.816000</td>\n",
              "      <td>12.187000</td>\n",
              "      <td>14.180000</td>\n",
              "      <td>14.313000</td>\n",
              "    </tr>\n",
              "  </tbody>\n",
              "</table>\n",
              "</div>\n",
              "      <button class=\"colab-df-convert\" onclick=\"convertToInteractive('df-e44f13bb-da51-4f44-a64f-67820132deb7')\"\n",
              "              title=\"Convert this dataframe to an interactive table.\"\n",
              "              style=\"display:none;\">\n",
              "        \n",
              "  <svg xmlns=\"http://www.w3.org/2000/svg\" height=\"24px\"viewBox=\"0 0 24 24\"\n",
              "       width=\"24px\">\n",
              "    <path d=\"M0 0h24v24H0V0z\" fill=\"none\"/>\n",
              "    <path d=\"M18.56 5.44l.94 2.06.94-2.06 2.06-.94-2.06-.94-.94-2.06-.94 2.06-2.06.94zm-11 1L8.5 8.5l.94-2.06 2.06-.94-2.06-.94L8.5 2.5l-.94 2.06-2.06.94zm10 10l.94 2.06.94-2.06 2.06-.94-2.06-.94-.94-2.06-.94 2.06-2.06.94z\"/><path d=\"M17.41 7.96l-1.37-1.37c-.4-.4-.92-.59-1.43-.59-.52 0-1.04.2-1.43.59L10.3 9.45l-7.72 7.72c-.78.78-.78 2.05 0 2.83L4 21.41c.39.39.9.59 1.41.59.51 0 1.02-.2 1.41-.59l7.78-7.78 2.81-2.81c.8-.78.8-2.07 0-2.86zM5.41 20L4 18.59l7.72-7.72 1.47 1.35L5.41 20z\"/>\n",
              "  </svg>\n",
              "      </button>\n",
              "      \n",
              "  <style>\n",
              "    .colab-df-container {\n",
              "      display:flex;\n",
              "      flex-wrap:wrap;\n",
              "      gap: 12px;\n",
              "    }\n",
              "\n",
              "    .colab-df-convert {\n",
              "      background-color: #E8F0FE;\n",
              "      border: none;\n",
              "      border-radius: 50%;\n",
              "      cursor: pointer;\n",
              "      display: none;\n",
              "      fill: #1967D2;\n",
              "      height: 32px;\n",
              "      padding: 0 0 0 0;\n",
              "      width: 32px;\n",
              "    }\n",
              "\n",
              "    .colab-df-convert:hover {\n",
              "      background-color: #E2EBFA;\n",
              "      box-shadow: 0px 1px 2px rgba(60, 64, 67, 0.3), 0px 1px 3px 1px rgba(60, 64, 67, 0.15);\n",
              "      fill: #174EA6;\n",
              "    }\n",
              "\n",
              "    [theme=dark] .colab-df-convert {\n",
              "      background-color: #3B4455;\n",
              "      fill: #D2E3FC;\n",
              "    }\n",
              "\n",
              "    [theme=dark] .colab-df-convert:hover {\n",
              "      background-color: #434B5C;\n",
              "      box-shadow: 0px 1px 3px 1px rgba(0, 0, 0, 0.15);\n",
              "      filter: drop-shadow(0px 1px 2px rgba(0, 0, 0, 0.3));\n",
              "      fill: #FFFFFF;\n",
              "    }\n",
              "  </style>\n",
              "\n",
              "      <script>\n",
              "        const buttonEl =\n",
              "          document.querySelector('#df-e44f13bb-da51-4f44-a64f-67820132deb7 button.colab-df-convert');\n",
              "        buttonEl.style.display =\n",
              "          google.colab.kernel.accessAllowed ? 'block' : 'none';\n",
              "\n",
              "        async function convertToInteractive(key) {\n",
              "          const element = document.querySelector('#df-e44f13bb-da51-4f44-a64f-67820132deb7');\n",
              "          const dataTable =\n",
              "            await google.colab.kernel.invokeFunction('convertToInteractive',\n",
              "                                                     [key], {});\n",
              "          if (!dataTable) return;\n",
              "\n",
              "          const docLinkHtml = 'Like what you see? Visit the ' +\n",
              "            '<a target=\"_blank\" href=https://colab.research.google.com/notebooks/data_table.ipynb>data table notebook</a>'\n",
              "            + ' to learn more about interactive tables.';\n",
              "          element.innerHTML = '';\n",
              "          dataTable['output_type'] = 'display_data';\n",
              "          await google.colab.output.renderOutput(dataTable, element);\n",
              "          const docLink = document.createElement('div');\n",
              "          docLink.innerHTML = docLinkHtml;\n",
              "          element.appendChild(docLink);\n",
              "        }\n",
              "      </script>\n",
              "    </div>\n",
              "  </div>\n",
              "  "
            ]
          },
          "metadata": {},
          "execution_count": 13
        }
      ]
    },
    {
      "cell_type": "code",
      "source": [
        "def cat_summary(x):\n",
        "    return pd.Series([x.count(), x.isnull().sum(), x.value_counts()], \n",
        "                  index=['N', 'NMISS', 'ColumnsNames'])\n",
        "\n",
        "cat_summary=train_cat.apply(lambda x: cat_summary(x))\n",
        "cat_summary"
      ],
      "metadata": {
        "colab": {
          "base_uri": "https://localhost:8080/",
          "height": 143
        },
        "id": "5JbVWtX1kgf2",
        "outputId": "92651f31-1dda-42a9-ff87-f6518f1af21e"
      },
      "execution_count": null,
      "outputs": [
        {
          "output_type": "execute_result",
          "data": {
            "text/plain": [
              "                                                           Date  \\\n",
              "N                                                        420212   \n",
              "NMISS                                                         0   \n",
              "ColumnsNames  2011-12-23    3018\n",
              "2011-11-25    3016\n",
              "2011-12-...   \n",
              "\n",
              "                                                           Type  \n",
              "N                                                        420212  \n",
              "NMISS                                                         0  \n",
              "ColumnsNames  A    214961\n",
              "B    162787\n",
              "C     42464\n",
              "Name: Type...  "
            ],
            "text/html": [
              "\n",
              "  <div id=\"df-6158900f-55c4-4d8f-94e9-e1e5f840936e\">\n",
              "    <div class=\"colab-df-container\">\n",
              "      <div>\n",
              "<style scoped>\n",
              "    .dataframe tbody tr th:only-of-type {\n",
              "        vertical-align: middle;\n",
              "    }\n",
              "\n",
              "    .dataframe tbody tr th {\n",
              "        vertical-align: top;\n",
              "    }\n",
              "\n",
              "    .dataframe thead th {\n",
              "        text-align: right;\n",
              "    }\n",
              "</style>\n",
              "<table border=\"1\" class=\"dataframe\">\n",
              "  <thead>\n",
              "    <tr style=\"text-align: right;\">\n",
              "      <th></th>\n",
              "      <th>Date</th>\n",
              "      <th>Type</th>\n",
              "    </tr>\n",
              "  </thead>\n",
              "  <tbody>\n",
              "    <tr>\n",
              "      <th>N</th>\n",
              "      <td>420212</td>\n",
              "      <td>420212</td>\n",
              "    </tr>\n",
              "    <tr>\n",
              "      <th>NMISS</th>\n",
              "      <td>0</td>\n",
              "      <td>0</td>\n",
              "    </tr>\n",
              "    <tr>\n",
              "      <th>ColumnsNames</th>\n",
              "      <td>2011-12-23    3018\n",
              "2011-11-25    3016\n",
              "2011-12-...</td>\n",
              "      <td>A    214961\n",
              "B    162787\n",
              "C     42464\n",
              "Name: Type...</td>\n",
              "    </tr>\n",
              "  </tbody>\n",
              "</table>\n",
              "</div>\n",
              "      <button class=\"colab-df-convert\" onclick=\"convertToInteractive('df-6158900f-55c4-4d8f-94e9-e1e5f840936e')\"\n",
              "              title=\"Convert this dataframe to an interactive table.\"\n",
              "              style=\"display:none;\">\n",
              "        \n",
              "  <svg xmlns=\"http://www.w3.org/2000/svg\" height=\"24px\"viewBox=\"0 0 24 24\"\n",
              "       width=\"24px\">\n",
              "    <path d=\"M0 0h24v24H0V0z\" fill=\"none\"/>\n",
              "    <path d=\"M18.56 5.44l.94 2.06.94-2.06 2.06-.94-2.06-.94-.94-2.06-.94 2.06-2.06.94zm-11 1L8.5 8.5l.94-2.06 2.06-.94-2.06-.94L8.5 2.5l-.94 2.06-2.06.94zm10 10l.94 2.06.94-2.06 2.06-.94-2.06-.94-.94-2.06-.94 2.06-2.06.94z\"/><path d=\"M17.41 7.96l-1.37-1.37c-.4-.4-.92-.59-1.43-.59-.52 0-1.04.2-1.43.59L10.3 9.45l-7.72 7.72c-.78.78-.78 2.05 0 2.83L4 21.41c.39.39.9.59 1.41.59.51 0 1.02-.2 1.41-.59l7.78-7.78 2.81-2.81c.8-.78.8-2.07 0-2.86zM5.41 20L4 18.59l7.72-7.72 1.47 1.35L5.41 20z\"/>\n",
              "  </svg>\n",
              "      </button>\n",
              "      \n",
              "  <style>\n",
              "    .colab-df-container {\n",
              "      display:flex;\n",
              "      flex-wrap:wrap;\n",
              "      gap: 12px;\n",
              "    }\n",
              "\n",
              "    .colab-df-convert {\n",
              "      background-color: #E8F0FE;\n",
              "      border: none;\n",
              "      border-radius: 50%;\n",
              "      cursor: pointer;\n",
              "      display: none;\n",
              "      fill: #1967D2;\n",
              "      height: 32px;\n",
              "      padding: 0 0 0 0;\n",
              "      width: 32px;\n",
              "    }\n",
              "\n",
              "    .colab-df-convert:hover {\n",
              "      background-color: #E2EBFA;\n",
              "      box-shadow: 0px 1px 2px rgba(60, 64, 67, 0.3), 0px 1px 3px 1px rgba(60, 64, 67, 0.15);\n",
              "      fill: #174EA6;\n",
              "    }\n",
              "\n",
              "    [theme=dark] .colab-df-convert {\n",
              "      background-color: #3B4455;\n",
              "      fill: #D2E3FC;\n",
              "    }\n",
              "\n",
              "    [theme=dark] .colab-df-convert:hover {\n",
              "      background-color: #434B5C;\n",
              "      box-shadow: 0px 1px 3px 1px rgba(0, 0, 0, 0.15);\n",
              "      filter: drop-shadow(0px 1px 2px rgba(0, 0, 0, 0.3));\n",
              "      fill: #FFFFFF;\n",
              "    }\n",
              "  </style>\n",
              "\n",
              "      <script>\n",
              "        const buttonEl =\n",
              "          document.querySelector('#df-6158900f-55c4-4d8f-94e9-e1e5f840936e button.colab-df-convert');\n",
              "        buttonEl.style.display =\n",
              "          google.colab.kernel.accessAllowed ? 'block' : 'none';\n",
              "\n",
              "        async function convertToInteractive(key) {\n",
              "          const element = document.querySelector('#df-6158900f-55c4-4d8f-94e9-e1e5f840936e');\n",
              "          const dataTable =\n",
              "            await google.colab.kernel.invokeFunction('convertToInteractive',\n",
              "                                                     [key], {});\n",
              "          if (!dataTable) return;\n",
              "\n",
              "          const docLinkHtml = 'Like what you see? Visit the ' +\n",
              "            '<a target=\"_blank\" href=https://colab.research.google.com/notebooks/data_table.ipynb>data table notebook</a>'\n",
              "            + ' to learn more about interactive tables.';\n",
              "          element.innerHTML = '';\n",
              "          dataTable['output_type'] = 'display_data';\n",
              "          await google.colab.output.renderOutput(dataTable, element);\n",
              "          const docLink = document.createElement('div');\n",
              "          docLink.innerHTML = docLinkHtml;\n",
              "          element.appendChild(docLink);\n",
              "        }\n",
              "      </script>\n",
              "    </div>\n",
              "  </div>\n",
              "  "
            ]
          },
          "metadata": {},
          "execution_count": 14
        }
      ]
    },
    {
      "cell_type": "markdown",
      "source": [
        "2. Testing Data"
      ],
      "metadata": {
        "id": "y5orSjC6kleV"
      }
    },
    {
      "cell_type": "code",
      "source": [
        "numeric_var_test=[key for key in dict(test.dtypes) if dict(test.dtypes)[key] in ['float64', 'int64', 'float32', 'int32']]\n",
        "cat_var_test=[key for key in dict(test.dtypes) if dict(test.dtypes)[key] in ['object']]\n",
        "\n",
        "# Train Numerical Data\n",
        "test_num=test[numeric_var_test]\n",
        "\n",
        "# Train Categorical Data\n",
        "test_cat=test[cat_var_test]\n",
        "\n",
        "print (numeric_var_test)\n",
        "print (cat_var_test)"
      ],
      "metadata": {
        "colab": {
          "base_uri": "https://localhost:8080/"
        },
        "id": "D06lspgSklIW",
        "outputId": "514c3129-0270-4566-838d-0c9d56665804"
      },
      "execution_count": null,
      "outputs": [
        {
          "output_type": "stream",
          "name": "stdout",
          "text": [
            "['Store', 'Dept', 'Size', 'Temperature', 'Fuel_Price', 'MarkDown1', 'MarkDown2', 'MarkDown3', 'MarkDown4', 'MarkDown5', 'CPI', 'Unemployment']\n",
            "['Date', 'Type']\n"
          ]
        }
      ]
    },
    {
      "cell_type": "code",
      "source": [
        "# Numerical data summary report\n",
        "num_summary=test_num.apply(lambda x: var_summary(x)).T\n",
        "\n",
        "num_summary.head()"
      ],
      "metadata": {
        "colab": {
          "base_uri": "https://localhost:8080/",
          "height": 270
        },
        "id": "RQM4oQflkpbA",
        "outputId": "0cfc6696-c692-44ae-feed-e20b495c5060"
      },
      "execution_count": null,
      "outputs": [
        {
          "output_type": "execute_result",
          "data": {
            "text/plain": [
              "                    N  NMISS           SUM           MEAN      MEDIAN  \\\n",
              "Store        115064.0    0.0  2.558817e+06      22.238207      22.000   \n",
              "Dept         115064.0    0.0  5.101883e+06      44.339524      37.000   \n",
              "Size         115064.0    0.0  1.570597e+10  136497.688921  140167.000   \n",
              "Temperature  115064.0    0.0  6.206760e+06      53.941804      54.470   \n",
              "Fuel_Price   115064.0    0.0  4.121070e+05       3.581546       3.606   \n",
              "\n",
              "                      STD           VAR        MIN         P1         P5  \\\n",
              "Store           12.809930  1.640943e+02      1.000      1.000      3.000   \n",
              "Dept            30.656410  9.398155e+02      1.000      1.000      4.000   \n",
              "Size         61106.926438  3.734056e+09  34875.000  34875.000  39690.000   \n",
              "Temperature     18.724153  3.505939e+02     -7.290     11.440     23.980   \n",
              "Fuel_Price       0.239442  5.733244e-02      2.872      2.957      3.161   \n",
              "\n",
              "                   P10        P25         P50         P75         P90  \\\n",
              "Store            5.000     11.000      22.000      33.000      40.000   \n",
              "Dept             7.000     18.000      37.000      74.000      92.000   \n",
              "Size         39910.000  93638.000  140167.000  202505.000  204184.000   \n",
              "Temperature     29.970     39.820      54.470      67.350      79.480   \n",
              "Fuel_Price       3.227      3.431       3.606       3.766       3.866   \n",
              "\n",
              "                    P95         P99         MAX  \n",
              "Store            43.000      45.000      45.000  \n",
              "Dept             95.000      98.000      99.000  \n",
              "Size         206302.000  219622.000  219622.000  \n",
              "Temperature      83.820      92.140     101.950  \n",
              "Fuel_Price        3.951       4.079       4.125  "
            ],
            "text/html": [
              "\n",
              "  <div id=\"df-b9eb9584-bcbf-448b-bf69-b34f8320e4e7\">\n",
              "    <div class=\"colab-df-container\">\n",
              "      <div>\n",
              "<style scoped>\n",
              "    .dataframe tbody tr th:only-of-type {\n",
              "        vertical-align: middle;\n",
              "    }\n",
              "\n",
              "    .dataframe tbody tr th {\n",
              "        vertical-align: top;\n",
              "    }\n",
              "\n",
              "    .dataframe thead th {\n",
              "        text-align: right;\n",
              "    }\n",
              "</style>\n",
              "<table border=\"1\" class=\"dataframe\">\n",
              "  <thead>\n",
              "    <tr style=\"text-align: right;\">\n",
              "      <th></th>\n",
              "      <th>N</th>\n",
              "      <th>NMISS</th>\n",
              "      <th>SUM</th>\n",
              "      <th>MEAN</th>\n",
              "      <th>MEDIAN</th>\n",
              "      <th>STD</th>\n",
              "      <th>VAR</th>\n",
              "      <th>MIN</th>\n",
              "      <th>P1</th>\n",
              "      <th>P5</th>\n",
              "      <th>P10</th>\n",
              "      <th>P25</th>\n",
              "      <th>P50</th>\n",
              "      <th>P75</th>\n",
              "      <th>P90</th>\n",
              "      <th>P95</th>\n",
              "      <th>P99</th>\n",
              "      <th>MAX</th>\n",
              "    </tr>\n",
              "  </thead>\n",
              "  <tbody>\n",
              "    <tr>\n",
              "      <th>Store</th>\n",
              "      <td>115064.0</td>\n",
              "      <td>0.0</td>\n",
              "      <td>2.558817e+06</td>\n",
              "      <td>22.238207</td>\n",
              "      <td>22.000</td>\n",
              "      <td>12.809930</td>\n",
              "      <td>1.640943e+02</td>\n",
              "      <td>1.000</td>\n",
              "      <td>1.000</td>\n",
              "      <td>3.000</td>\n",
              "      <td>5.000</td>\n",
              "      <td>11.000</td>\n",
              "      <td>22.000</td>\n",
              "      <td>33.000</td>\n",
              "      <td>40.000</td>\n",
              "      <td>43.000</td>\n",
              "      <td>45.000</td>\n",
              "      <td>45.000</td>\n",
              "    </tr>\n",
              "    <tr>\n",
              "      <th>Dept</th>\n",
              "      <td>115064.0</td>\n",
              "      <td>0.0</td>\n",
              "      <td>5.101883e+06</td>\n",
              "      <td>44.339524</td>\n",
              "      <td>37.000</td>\n",
              "      <td>30.656410</td>\n",
              "      <td>9.398155e+02</td>\n",
              "      <td>1.000</td>\n",
              "      <td>1.000</td>\n",
              "      <td>4.000</td>\n",
              "      <td>7.000</td>\n",
              "      <td>18.000</td>\n",
              "      <td>37.000</td>\n",
              "      <td>74.000</td>\n",
              "      <td>92.000</td>\n",
              "      <td>95.000</td>\n",
              "      <td>98.000</td>\n",
              "      <td>99.000</td>\n",
              "    </tr>\n",
              "    <tr>\n",
              "      <th>Size</th>\n",
              "      <td>115064.0</td>\n",
              "      <td>0.0</td>\n",
              "      <td>1.570597e+10</td>\n",
              "      <td>136497.688921</td>\n",
              "      <td>140167.000</td>\n",
              "      <td>61106.926438</td>\n",
              "      <td>3.734056e+09</td>\n",
              "      <td>34875.000</td>\n",
              "      <td>34875.000</td>\n",
              "      <td>39690.000</td>\n",
              "      <td>39910.000</td>\n",
              "      <td>93638.000</td>\n",
              "      <td>140167.000</td>\n",
              "      <td>202505.000</td>\n",
              "      <td>204184.000</td>\n",
              "      <td>206302.000</td>\n",
              "      <td>219622.000</td>\n",
              "      <td>219622.000</td>\n",
              "    </tr>\n",
              "    <tr>\n",
              "      <th>Temperature</th>\n",
              "      <td>115064.0</td>\n",
              "      <td>0.0</td>\n",
              "      <td>6.206760e+06</td>\n",
              "      <td>53.941804</td>\n",
              "      <td>54.470</td>\n",
              "      <td>18.724153</td>\n",
              "      <td>3.505939e+02</td>\n",
              "      <td>-7.290</td>\n",
              "      <td>11.440</td>\n",
              "      <td>23.980</td>\n",
              "      <td>29.970</td>\n",
              "      <td>39.820</td>\n",
              "      <td>54.470</td>\n",
              "      <td>67.350</td>\n",
              "      <td>79.480</td>\n",
              "      <td>83.820</td>\n",
              "      <td>92.140</td>\n",
              "      <td>101.950</td>\n",
              "    </tr>\n",
              "    <tr>\n",
              "      <th>Fuel_Price</th>\n",
              "      <td>115064.0</td>\n",
              "      <td>0.0</td>\n",
              "      <td>4.121070e+05</td>\n",
              "      <td>3.581546</td>\n",
              "      <td>3.606</td>\n",
              "      <td>0.239442</td>\n",
              "      <td>5.733244e-02</td>\n",
              "      <td>2.872</td>\n",
              "      <td>2.957</td>\n",
              "      <td>3.161</td>\n",
              "      <td>3.227</td>\n",
              "      <td>3.431</td>\n",
              "      <td>3.606</td>\n",
              "      <td>3.766</td>\n",
              "      <td>3.866</td>\n",
              "      <td>3.951</td>\n",
              "      <td>4.079</td>\n",
              "      <td>4.125</td>\n",
              "    </tr>\n",
              "  </tbody>\n",
              "</table>\n",
              "</div>\n",
              "      <button class=\"colab-df-convert\" onclick=\"convertToInteractive('df-b9eb9584-bcbf-448b-bf69-b34f8320e4e7')\"\n",
              "              title=\"Convert this dataframe to an interactive table.\"\n",
              "              style=\"display:none;\">\n",
              "        \n",
              "  <svg xmlns=\"http://www.w3.org/2000/svg\" height=\"24px\"viewBox=\"0 0 24 24\"\n",
              "       width=\"24px\">\n",
              "    <path d=\"M0 0h24v24H0V0z\" fill=\"none\"/>\n",
              "    <path d=\"M18.56 5.44l.94 2.06.94-2.06 2.06-.94-2.06-.94-.94-2.06-.94 2.06-2.06.94zm-11 1L8.5 8.5l.94-2.06 2.06-.94-2.06-.94L8.5 2.5l-.94 2.06-2.06.94zm10 10l.94 2.06.94-2.06 2.06-.94-2.06-.94-.94-2.06-.94 2.06-2.06.94z\"/><path d=\"M17.41 7.96l-1.37-1.37c-.4-.4-.92-.59-1.43-.59-.52 0-1.04.2-1.43.59L10.3 9.45l-7.72 7.72c-.78.78-.78 2.05 0 2.83L4 21.41c.39.39.9.59 1.41.59.51 0 1.02-.2 1.41-.59l7.78-7.78 2.81-2.81c.8-.78.8-2.07 0-2.86zM5.41 20L4 18.59l7.72-7.72 1.47 1.35L5.41 20z\"/>\n",
              "  </svg>\n",
              "      </button>\n",
              "      \n",
              "  <style>\n",
              "    .colab-df-container {\n",
              "      display:flex;\n",
              "      flex-wrap:wrap;\n",
              "      gap: 12px;\n",
              "    }\n",
              "\n",
              "    .colab-df-convert {\n",
              "      background-color: #E8F0FE;\n",
              "      border: none;\n",
              "      border-radius: 50%;\n",
              "      cursor: pointer;\n",
              "      display: none;\n",
              "      fill: #1967D2;\n",
              "      height: 32px;\n",
              "      padding: 0 0 0 0;\n",
              "      width: 32px;\n",
              "    }\n",
              "\n",
              "    .colab-df-convert:hover {\n",
              "      background-color: #E2EBFA;\n",
              "      box-shadow: 0px 1px 2px rgba(60, 64, 67, 0.3), 0px 1px 3px 1px rgba(60, 64, 67, 0.15);\n",
              "      fill: #174EA6;\n",
              "    }\n",
              "\n",
              "    [theme=dark] .colab-df-convert {\n",
              "      background-color: #3B4455;\n",
              "      fill: #D2E3FC;\n",
              "    }\n",
              "\n",
              "    [theme=dark] .colab-df-convert:hover {\n",
              "      background-color: #434B5C;\n",
              "      box-shadow: 0px 1px 3px 1px rgba(0, 0, 0, 0.15);\n",
              "      filter: drop-shadow(0px 1px 2px rgba(0, 0, 0, 0.3));\n",
              "      fill: #FFFFFF;\n",
              "    }\n",
              "  </style>\n",
              "\n",
              "      <script>\n",
              "        const buttonEl =\n",
              "          document.querySelector('#df-b9eb9584-bcbf-448b-bf69-b34f8320e4e7 button.colab-df-convert');\n",
              "        buttonEl.style.display =\n",
              "          google.colab.kernel.accessAllowed ? 'block' : 'none';\n",
              "\n",
              "        async function convertToInteractive(key) {\n",
              "          const element = document.querySelector('#df-b9eb9584-bcbf-448b-bf69-b34f8320e4e7');\n",
              "          const dataTable =\n",
              "            await google.colab.kernel.invokeFunction('convertToInteractive',\n",
              "                                                     [key], {});\n",
              "          if (!dataTable) return;\n",
              "\n",
              "          const docLinkHtml = 'Like what you see? Visit the ' +\n",
              "            '<a target=\"_blank\" href=https://colab.research.google.com/notebooks/data_table.ipynb>data table notebook</a>'\n",
              "            + ' to learn more about interactive tables.';\n",
              "          element.innerHTML = '';\n",
              "          dataTable['output_type'] = 'display_data';\n",
              "          await google.colab.output.renderOutput(dataTable, element);\n",
              "          const docLink = document.createElement('div');\n",
              "          docLink.innerHTML = docLinkHtml;\n",
              "          element.appendChild(docLink);\n",
              "        }\n",
              "      </script>\n",
              "    </div>\n",
              "  </div>\n",
              "  "
            ]
          },
          "metadata": {},
          "execution_count": 16
        }
      ]
    },
    {
      "cell_type": "code",
      "source": [
        "# categorical data summary report\n",
        "def cat_summary(x):\n",
        "    return pd.Series([x.count(), x.isnull().sum(), x.value_counts()], \n",
        "                  index=['N', 'NMISS', 'ColumnsNames'])\n",
        "\n",
        "cat_summary=test_cat.apply(lambda x: cat_summary(x))\n",
        "cat_summary"
      ],
      "metadata": {
        "colab": {
          "base_uri": "https://localhost:8080/",
          "height": 143
        },
        "id": "vWuCWE9hkslG",
        "outputId": "41066dc9-c88f-40a3-d360-5db4d4d09405"
      },
      "execution_count": null,
      "outputs": [
        {
          "output_type": "execute_result",
          "data": {
            "text/plain": [
              "                                                           Date  \\\n",
              "N                                                        115064   \n",
              "NMISS                                                         0   \n",
              "ColumnsNames  2012-12-21    3002\n",
              "2012-12-07    2989\n",
              "2012-12-...   \n",
              "\n",
              "                                                           Type  \n",
              "N                                                        115064  \n",
              "NMISS                                                         0  \n",
              "ColumnsNames  A    58713\n",
              "B    44500\n",
              "C    11851\n",
              "Name: Type, d...  "
            ],
            "text/html": [
              "\n",
              "  <div id=\"df-ee4bc2be-390d-46b9-9c44-dfe3edbbda8b\">\n",
              "    <div class=\"colab-df-container\">\n",
              "      <div>\n",
              "<style scoped>\n",
              "    .dataframe tbody tr th:only-of-type {\n",
              "        vertical-align: middle;\n",
              "    }\n",
              "\n",
              "    .dataframe tbody tr th {\n",
              "        vertical-align: top;\n",
              "    }\n",
              "\n",
              "    .dataframe thead th {\n",
              "        text-align: right;\n",
              "    }\n",
              "</style>\n",
              "<table border=\"1\" class=\"dataframe\">\n",
              "  <thead>\n",
              "    <tr style=\"text-align: right;\">\n",
              "      <th></th>\n",
              "      <th>Date</th>\n",
              "      <th>Type</th>\n",
              "    </tr>\n",
              "  </thead>\n",
              "  <tbody>\n",
              "    <tr>\n",
              "      <th>N</th>\n",
              "      <td>115064</td>\n",
              "      <td>115064</td>\n",
              "    </tr>\n",
              "    <tr>\n",
              "      <th>NMISS</th>\n",
              "      <td>0</td>\n",
              "      <td>0</td>\n",
              "    </tr>\n",
              "    <tr>\n",
              "      <th>ColumnsNames</th>\n",
              "      <td>2012-12-21    3002\n",
              "2012-12-07    2989\n",
              "2012-12-...</td>\n",
              "      <td>A    58713\n",
              "B    44500\n",
              "C    11851\n",
              "Name: Type, d...</td>\n",
              "    </tr>\n",
              "  </tbody>\n",
              "</table>\n",
              "</div>\n",
              "      <button class=\"colab-df-convert\" onclick=\"convertToInteractive('df-ee4bc2be-390d-46b9-9c44-dfe3edbbda8b')\"\n",
              "              title=\"Convert this dataframe to an interactive table.\"\n",
              "              style=\"display:none;\">\n",
              "        \n",
              "  <svg xmlns=\"http://www.w3.org/2000/svg\" height=\"24px\"viewBox=\"0 0 24 24\"\n",
              "       width=\"24px\">\n",
              "    <path d=\"M0 0h24v24H0V0z\" fill=\"none\"/>\n",
              "    <path d=\"M18.56 5.44l.94 2.06.94-2.06 2.06-.94-2.06-.94-.94-2.06-.94 2.06-2.06.94zm-11 1L8.5 8.5l.94-2.06 2.06-.94-2.06-.94L8.5 2.5l-.94 2.06-2.06.94zm10 10l.94 2.06.94-2.06 2.06-.94-2.06-.94-.94-2.06-.94 2.06-2.06.94z\"/><path d=\"M17.41 7.96l-1.37-1.37c-.4-.4-.92-.59-1.43-.59-.52 0-1.04.2-1.43.59L10.3 9.45l-7.72 7.72c-.78.78-.78 2.05 0 2.83L4 21.41c.39.39.9.59 1.41.59.51 0 1.02-.2 1.41-.59l7.78-7.78 2.81-2.81c.8-.78.8-2.07 0-2.86zM5.41 20L4 18.59l7.72-7.72 1.47 1.35L5.41 20z\"/>\n",
              "  </svg>\n",
              "      </button>\n",
              "      \n",
              "  <style>\n",
              "    .colab-df-container {\n",
              "      display:flex;\n",
              "      flex-wrap:wrap;\n",
              "      gap: 12px;\n",
              "    }\n",
              "\n",
              "    .colab-df-convert {\n",
              "      background-color: #E8F0FE;\n",
              "      border: none;\n",
              "      border-radius: 50%;\n",
              "      cursor: pointer;\n",
              "      display: none;\n",
              "      fill: #1967D2;\n",
              "      height: 32px;\n",
              "      padding: 0 0 0 0;\n",
              "      width: 32px;\n",
              "    }\n",
              "\n",
              "    .colab-df-convert:hover {\n",
              "      background-color: #E2EBFA;\n",
              "      box-shadow: 0px 1px 2px rgba(60, 64, 67, 0.3), 0px 1px 3px 1px rgba(60, 64, 67, 0.15);\n",
              "      fill: #174EA6;\n",
              "    }\n",
              "\n",
              "    [theme=dark] .colab-df-convert {\n",
              "      background-color: #3B4455;\n",
              "      fill: #D2E3FC;\n",
              "    }\n",
              "\n",
              "    [theme=dark] .colab-df-convert:hover {\n",
              "      background-color: #434B5C;\n",
              "      box-shadow: 0px 1px 3px 1px rgba(0, 0, 0, 0.15);\n",
              "      filter: drop-shadow(0px 1px 2px rgba(0, 0, 0, 0.3));\n",
              "      fill: #FFFFFF;\n",
              "    }\n",
              "  </style>\n",
              "\n",
              "      <script>\n",
              "        const buttonEl =\n",
              "          document.querySelector('#df-ee4bc2be-390d-46b9-9c44-dfe3edbbda8b button.colab-df-convert');\n",
              "        buttonEl.style.display =\n",
              "          google.colab.kernel.accessAllowed ? 'block' : 'none';\n",
              "\n",
              "        async function convertToInteractive(key) {\n",
              "          const element = document.querySelector('#df-ee4bc2be-390d-46b9-9c44-dfe3edbbda8b');\n",
              "          const dataTable =\n",
              "            await google.colab.kernel.invokeFunction('convertToInteractive',\n",
              "                                                     [key], {});\n",
              "          if (!dataTable) return;\n",
              "\n",
              "          const docLinkHtml = 'Like what you see? Visit the ' +\n",
              "            '<a target=\"_blank\" href=https://colab.research.google.com/notebooks/data_table.ipynb>data table notebook</a>'\n",
              "            + ' to learn more about interactive tables.';\n",
              "          element.innerHTML = '';\n",
              "          dataTable['output_type'] = 'display_data';\n",
              "          await google.colab.output.renderOutput(dataTable, element);\n",
              "          const docLink = document.createElement('div');\n",
              "          docLink.innerHTML = docLinkHtml;\n",
              "          element.appendChild(docLink);\n",
              "        }\n",
              "      </script>\n",
              "    </div>\n",
              "  </div>\n",
              "  "
            ]
          },
          "metadata": {},
          "execution_count": 17
        }
      ]
    },
    {
      "cell_type": "markdown",
      "source": [
        "Correlation matrix"
      ],
      "metadata": {
        "id": "ZQs9bgwBlZak"
      }
    },
    {
      "cell_type": "code",
      "source": [
        "# Correlation for train data\n",
        "train_corr=pd.DataFrame(train.corr())\n",
        "train_corr.head()"
      ],
      "metadata": {
        "colab": {
          "base_uri": "https://localhost:8080/",
          "height": 270
        },
        "id": "99CEi4hCku4d",
        "outputId": "7974a8e9-fecd-45fe-9d5f-8bb4035add9e"
      },
      "execution_count": null,
      "outputs": [
        {
          "output_type": "execute_result",
          "data": {
            "text/plain": [
              "                 Store      Dept  Weekly_Sales  IsHoliday      Size  \\\n",
              "Store         1.000000  0.024258     -0.085117  -0.000522 -0.182763   \n",
              "Dept          0.024258  1.000000      0.148749   0.000663 -0.002491   \n",
              "Weekly_Sales -0.085117  0.148749      1.000000   0.012843  0.244117   \n",
              "IsHoliday    -0.000522  0.000663      0.012843   1.000000  0.000797   \n",
              "Size         -0.182763 -0.002491      0.244117   0.000797  1.000000   \n",
              "\n",
              "              Temperature  Fuel_Price  MarkDown1  MarkDown2  MarkDown3  \\\n",
              "Store           -0.050230    0.065321  -0.119676  -0.034993  -0.031475   \n",
              "Dept             0.004727    0.003544  -0.002512   0.000018   0.001855   \n",
              "Weekly_Sales    -0.002339    0.000089   0.085325   0.024565   0.060304   \n",
              "IsHoliday       -0.155775   -0.078155  -0.035632   0.334327   0.428364   \n",
              "Size            -0.058413    0.003632   0.345732   0.108843   0.048935   \n",
              "\n",
              "              MarkDown4  MarkDown5       CPI  Unemployment  \n",
              "Store         -0.009991  -0.026777 -0.211261      0.208759  \n",
              "Dept           0.004176   0.000295 -0.007178      0.007787  \n",
              "Weekly_Sales   0.045325   0.090561 -0.021162     -0.025806  \n",
              "IsHoliday     -0.000459  -0.053696 -0.001933      0.010555  \n",
              "Size           0.168266   0.304814 -0.003903     -0.068335  "
            ],
            "text/html": [
              "\n",
              "  <div id=\"df-6d427b36-63d3-4b66-8136-6c240e58cc2d\">\n",
              "    <div class=\"colab-df-container\">\n",
              "      <div>\n",
              "<style scoped>\n",
              "    .dataframe tbody tr th:only-of-type {\n",
              "        vertical-align: middle;\n",
              "    }\n",
              "\n",
              "    .dataframe tbody tr th {\n",
              "        vertical-align: top;\n",
              "    }\n",
              "\n",
              "    .dataframe thead th {\n",
              "        text-align: right;\n",
              "    }\n",
              "</style>\n",
              "<table border=\"1\" class=\"dataframe\">\n",
              "  <thead>\n",
              "    <tr style=\"text-align: right;\">\n",
              "      <th></th>\n",
              "      <th>Store</th>\n",
              "      <th>Dept</th>\n",
              "      <th>Weekly_Sales</th>\n",
              "      <th>IsHoliday</th>\n",
              "      <th>Size</th>\n",
              "      <th>Temperature</th>\n",
              "      <th>Fuel_Price</th>\n",
              "      <th>MarkDown1</th>\n",
              "      <th>MarkDown2</th>\n",
              "      <th>MarkDown3</th>\n",
              "      <th>MarkDown4</th>\n",
              "      <th>MarkDown5</th>\n",
              "      <th>CPI</th>\n",
              "      <th>Unemployment</th>\n",
              "    </tr>\n",
              "  </thead>\n",
              "  <tbody>\n",
              "    <tr>\n",
              "      <th>Store</th>\n",
              "      <td>1.000000</td>\n",
              "      <td>0.024258</td>\n",
              "      <td>-0.085117</td>\n",
              "      <td>-0.000522</td>\n",
              "      <td>-0.182763</td>\n",
              "      <td>-0.050230</td>\n",
              "      <td>0.065321</td>\n",
              "      <td>-0.119676</td>\n",
              "      <td>-0.034993</td>\n",
              "      <td>-0.031475</td>\n",
              "      <td>-0.009991</td>\n",
              "      <td>-0.026777</td>\n",
              "      <td>-0.211261</td>\n",
              "      <td>0.208759</td>\n",
              "    </tr>\n",
              "    <tr>\n",
              "      <th>Dept</th>\n",
              "      <td>0.024258</td>\n",
              "      <td>1.000000</td>\n",
              "      <td>0.148749</td>\n",
              "      <td>0.000663</td>\n",
              "      <td>-0.002491</td>\n",
              "      <td>0.004727</td>\n",
              "      <td>0.003544</td>\n",
              "      <td>-0.002512</td>\n",
              "      <td>0.000018</td>\n",
              "      <td>0.001855</td>\n",
              "      <td>0.004176</td>\n",
              "      <td>0.000295</td>\n",
              "      <td>-0.007178</td>\n",
              "      <td>0.007787</td>\n",
              "    </tr>\n",
              "    <tr>\n",
              "      <th>Weekly_Sales</th>\n",
              "      <td>-0.085117</td>\n",
              "      <td>0.148749</td>\n",
              "      <td>1.000000</td>\n",
              "      <td>0.012843</td>\n",
              "      <td>0.244117</td>\n",
              "      <td>-0.002339</td>\n",
              "      <td>0.000089</td>\n",
              "      <td>0.085325</td>\n",
              "      <td>0.024565</td>\n",
              "      <td>0.060304</td>\n",
              "      <td>0.045325</td>\n",
              "      <td>0.090561</td>\n",
              "      <td>-0.021162</td>\n",
              "      <td>-0.025806</td>\n",
              "    </tr>\n",
              "    <tr>\n",
              "      <th>IsHoliday</th>\n",
              "      <td>-0.000522</td>\n",
              "      <td>0.000663</td>\n",
              "      <td>0.012843</td>\n",
              "      <td>1.000000</td>\n",
              "      <td>0.000797</td>\n",
              "      <td>-0.155775</td>\n",
              "      <td>-0.078155</td>\n",
              "      <td>-0.035632</td>\n",
              "      <td>0.334327</td>\n",
              "      <td>0.428364</td>\n",
              "      <td>-0.000459</td>\n",
              "      <td>-0.053696</td>\n",
              "      <td>-0.001933</td>\n",
              "      <td>0.010555</td>\n",
              "    </tr>\n",
              "    <tr>\n",
              "      <th>Size</th>\n",
              "      <td>-0.182763</td>\n",
              "      <td>-0.002491</td>\n",
              "      <td>0.244117</td>\n",
              "      <td>0.000797</td>\n",
              "      <td>1.000000</td>\n",
              "      <td>-0.058413</td>\n",
              "      <td>0.003632</td>\n",
              "      <td>0.345732</td>\n",
              "      <td>0.108843</td>\n",
              "      <td>0.048935</td>\n",
              "      <td>0.168266</td>\n",
              "      <td>0.304814</td>\n",
              "      <td>-0.003903</td>\n",
              "      <td>-0.068335</td>\n",
              "    </tr>\n",
              "  </tbody>\n",
              "</table>\n",
              "</div>\n",
              "      <button class=\"colab-df-convert\" onclick=\"convertToInteractive('df-6d427b36-63d3-4b66-8136-6c240e58cc2d')\"\n",
              "              title=\"Convert this dataframe to an interactive table.\"\n",
              "              style=\"display:none;\">\n",
              "        \n",
              "  <svg xmlns=\"http://www.w3.org/2000/svg\" height=\"24px\"viewBox=\"0 0 24 24\"\n",
              "       width=\"24px\">\n",
              "    <path d=\"M0 0h24v24H0V0z\" fill=\"none\"/>\n",
              "    <path d=\"M18.56 5.44l.94 2.06.94-2.06 2.06-.94-2.06-.94-.94-2.06-.94 2.06-2.06.94zm-11 1L8.5 8.5l.94-2.06 2.06-.94-2.06-.94L8.5 2.5l-.94 2.06-2.06.94zm10 10l.94 2.06.94-2.06 2.06-.94-2.06-.94-.94-2.06-.94 2.06-2.06.94z\"/><path d=\"M17.41 7.96l-1.37-1.37c-.4-.4-.92-.59-1.43-.59-.52 0-1.04.2-1.43.59L10.3 9.45l-7.72 7.72c-.78.78-.78 2.05 0 2.83L4 21.41c.39.39.9.59 1.41.59.51 0 1.02-.2 1.41-.59l7.78-7.78 2.81-2.81c.8-.78.8-2.07 0-2.86zM5.41 20L4 18.59l7.72-7.72 1.47 1.35L5.41 20z\"/>\n",
              "  </svg>\n",
              "      </button>\n",
              "      \n",
              "  <style>\n",
              "    .colab-df-container {\n",
              "      display:flex;\n",
              "      flex-wrap:wrap;\n",
              "      gap: 12px;\n",
              "    }\n",
              "\n",
              "    .colab-df-convert {\n",
              "      background-color: #E8F0FE;\n",
              "      border: none;\n",
              "      border-radius: 50%;\n",
              "      cursor: pointer;\n",
              "      display: none;\n",
              "      fill: #1967D2;\n",
              "      height: 32px;\n",
              "      padding: 0 0 0 0;\n",
              "      width: 32px;\n",
              "    }\n",
              "\n",
              "    .colab-df-convert:hover {\n",
              "      background-color: #E2EBFA;\n",
              "      box-shadow: 0px 1px 2px rgba(60, 64, 67, 0.3), 0px 1px 3px 1px rgba(60, 64, 67, 0.15);\n",
              "      fill: #174EA6;\n",
              "    }\n",
              "\n",
              "    [theme=dark] .colab-df-convert {\n",
              "      background-color: #3B4455;\n",
              "      fill: #D2E3FC;\n",
              "    }\n",
              "\n",
              "    [theme=dark] .colab-df-convert:hover {\n",
              "      background-color: #434B5C;\n",
              "      box-shadow: 0px 1px 3px 1px rgba(0, 0, 0, 0.15);\n",
              "      filter: drop-shadow(0px 1px 2px rgba(0, 0, 0, 0.3));\n",
              "      fill: #FFFFFF;\n",
              "    }\n",
              "  </style>\n",
              "\n",
              "      <script>\n",
              "        const buttonEl =\n",
              "          document.querySelector('#df-6d427b36-63d3-4b66-8136-6c240e58cc2d button.colab-df-convert');\n",
              "        buttonEl.style.display =\n",
              "          google.colab.kernel.accessAllowed ? 'block' : 'none';\n",
              "\n",
              "        async function convertToInteractive(key) {\n",
              "          const element = document.querySelector('#df-6d427b36-63d3-4b66-8136-6c240e58cc2d');\n",
              "          const dataTable =\n",
              "            await google.colab.kernel.invokeFunction('convertToInteractive',\n",
              "                                                     [key], {});\n",
              "          if (!dataTable) return;\n",
              "\n",
              "          const docLinkHtml = 'Like what you see? Visit the ' +\n",
              "            '<a target=\"_blank\" href=https://colab.research.google.com/notebooks/data_table.ipynb>data table notebook</a>'\n",
              "            + ' to learn more about interactive tables.';\n",
              "          element.innerHTML = '';\n",
              "          dataTable['output_type'] = 'display_data';\n",
              "          await google.colab.output.renderOutput(dataTable, element);\n",
              "          const docLink = document.createElement('div');\n",
              "          docLink.innerHTML = docLinkHtml;\n",
              "          element.appendChild(docLink);\n",
              "        }\n",
              "      </script>\n",
              "    </div>\n",
              "  </div>\n",
              "  "
            ]
          },
          "metadata": {},
          "execution_count": 20
        }
      ]
    },
    {
      "cell_type": "code",
      "source": [
        "# Correlation for test data\n",
        "test_corr=pd.DataFrame(test.corr())\n",
        "test_corr.head()"
      ],
      "metadata": {
        "colab": {
          "base_uri": "https://localhost:8080/",
          "height": 270
        },
        "id": "ouHlqJkClhxg",
        "outputId": "74fcbfc7-b74d-43a6-ff2d-2c4608e7c544"
      },
      "execution_count": null,
      "outputs": [
        {
          "output_type": "execute_result",
          "data": {
            "text/plain": [
              "                Store      Dept  IsHoliday      Size  Temperature  Fuel_Price  \\\n",
              "Store        1.000000  0.019627  -0.001166 -0.186845    -0.043495    0.153425   \n",
              "Dept         0.019627  1.000000   0.001249  0.001502     0.003970    0.000554   \n",
              "IsHoliday   -0.001166  0.001249   1.000000 -0.000443    -0.187428   -0.126443   \n",
              "Size        -0.186845  0.001502  -0.000443  1.000000    -0.061256    0.055088   \n",
              "Temperature -0.043495  0.003970  -0.187428 -0.061256     1.000000    0.073938   \n",
              "\n",
              "             MarkDown1  MarkDown2  MarkDown3  MarkDown4  MarkDown5       CPI  \\\n",
              "Store        -0.091707  -0.041370  -0.025177   0.010331   0.010419 -0.214872   \n",
              "Dept         -0.002353   0.001292   0.000247   0.002510   0.000776 -0.006336   \n",
              "IsHoliday     0.355257   0.265402   0.496062   0.289700  -0.019386 -0.001475   \n",
              "Size          0.309614   0.157526   0.050088   0.155448   0.103681 -0.002916   \n",
              "Temperature  -0.168899  -0.324280  -0.049771  -0.059583   0.003937  0.280861   \n",
              "\n",
              "             Unemployment  \n",
              "Store            0.250321  \n",
              "Dept             0.004087  \n",
              "IsHoliday        0.010288  \n",
              "Size            -0.001988  \n",
              "Temperature      0.022136  "
            ],
            "text/html": [
              "\n",
              "  <div id=\"df-fb64f9f5-3c29-4570-81f6-4a17e7bb121f\">\n",
              "    <div class=\"colab-df-container\">\n",
              "      <div>\n",
              "<style scoped>\n",
              "    .dataframe tbody tr th:only-of-type {\n",
              "        vertical-align: middle;\n",
              "    }\n",
              "\n",
              "    .dataframe tbody tr th {\n",
              "        vertical-align: top;\n",
              "    }\n",
              "\n",
              "    .dataframe thead th {\n",
              "        text-align: right;\n",
              "    }\n",
              "</style>\n",
              "<table border=\"1\" class=\"dataframe\">\n",
              "  <thead>\n",
              "    <tr style=\"text-align: right;\">\n",
              "      <th></th>\n",
              "      <th>Store</th>\n",
              "      <th>Dept</th>\n",
              "      <th>IsHoliday</th>\n",
              "      <th>Size</th>\n",
              "      <th>Temperature</th>\n",
              "      <th>Fuel_Price</th>\n",
              "      <th>MarkDown1</th>\n",
              "      <th>MarkDown2</th>\n",
              "      <th>MarkDown3</th>\n",
              "      <th>MarkDown4</th>\n",
              "      <th>MarkDown5</th>\n",
              "      <th>CPI</th>\n",
              "      <th>Unemployment</th>\n",
              "    </tr>\n",
              "  </thead>\n",
              "  <tbody>\n",
              "    <tr>\n",
              "      <th>Store</th>\n",
              "      <td>1.000000</td>\n",
              "      <td>0.019627</td>\n",
              "      <td>-0.001166</td>\n",
              "      <td>-0.186845</td>\n",
              "      <td>-0.043495</td>\n",
              "      <td>0.153425</td>\n",
              "      <td>-0.091707</td>\n",
              "      <td>-0.041370</td>\n",
              "      <td>-0.025177</td>\n",
              "      <td>0.010331</td>\n",
              "      <td>0.010419</td>\n",
              "      <td>-0.214872</td>\n",
              "      <td>0.250321</td>\n",
              "    </tr>\n",
              "    <tr>\n",
              "      <th>Dept</th>\n",
              "      <td>0.019627</td>\n",
              "      <td>1.000000</td>\n",
              "      <td>0.001249</td>\n",
              "      <td>0.001502</td>\n",
              "      <td>0.003970</td>\n",
              "      <td>0.000554</td>\n",
              "      <td>-0.002353</td>\n",
              "      <td>0.001292</td>\n",
              "      <td>0.000247</td>\n",
              "      <td>0.002510</td>\n",
              "      <td>0.000776</td>\n",
              "      <td>-0.006336</td>\n",
              "      <td>0.004087</td>\n",
              "    </tr>\n",
              "    <tr>\n",
              "      <th>IsHoliday</th>\n",
              "      <td>-0.001166</td>\n",
              "      <td>0.001249</td>\n",
              "      <td>1.000000</td>\n",
              "      <td>-0.000443</td>\n",
              "      <td>-0.187428</td>\n",
              "      <td>-0.126443</td>\n",
              "      <td>0.355257</td>\n",
              "      <td>0.265402</td>\n",
              "      <td>0.496062</td>\n",
              "      <td>0.289700</td>\n",
              "      <td>-0.019386</td>\n",
              "      <td>-0.001475</td>\n",
              "      <td>0.010288</td>\n",
              "    </tr>\n",
              "    <tr>\n",
              "      <th>Size</th>\n",
              "      <td>-0.186845</td>\n",
              "      <td>0.001502</td>\n",
              "      <td>-0.000443</td>\n",
              "      <td>1.000000</td>\n",
              "      <td>-0.061256</td>\n",
              "      <td>0.055088</td>\n",
              "      <td>0.309614</td>\n",
              "      <td>0.157526</td>\n",
              "      <td>0.050088</td>\n",
              "      <td>0.155448</td>\n",
              "      <td>0.103681</td>\n",
              "      <td>-0.002916</td>\n",
              "      <td>-0.001988</td>\n",
              "    </tr>\n",
              "    <tr>\n",
              "      <th>Temperature</th>\n",
              "      <td>-0.043495</td>\n",
              "      <td>0.003970</td>\n",
              "      <td>-0.187428</td>\n",
              "      <td>-0.061256</td>\n",
              "      <td>1.000000</td>\n",
              "      <td>0.073938</td>\n",
              "      <td>-0.168899</td>\n",
              "      <td>-0.324280</td>\n",
              "      <td>-0.049771</td>\n",
              "      <td>-0.059583</td>\n",
              "      <td>0.003937</td>\n",
              "      <td>0.280861</td>\n",
              "      <td>0.022136</td>\n",
              "    </tr>\n",
              "  </tbody>\n",
              "</table>\n",
              "</div>\n",
              "      <button class=\"colab-df-convert\" onclick=\"convertToInteractive('df-fb64f9f5-3c29-4570-81f6-4a17e7bb121f')\"\n",
              "              title=\"Convert this dataframe to an interactive table.\"\n",
              "              style=\"display:none;\">\n",
              "        \n",
              "  <svg xmlns=\"http://www.w3.org/2000/svg\" height=\"24px\"viewBox=\"0 0 24 24\"\n",
              "       width=\"24px\">\n",
              "    <path d=\"M0 0h24v24H0V0z\" fill=\"none\"/>\n",
              "    <path d=\"M18.56 5.44l.94 2.06.94-2.06 2.06-.94-2.06-.94-.94-2.06-.94 2.06-2.06.94zm-11 1L8.5 8.5l.94-2.06 2.06-.94-2.06-.94L8.5 2.5l-.94 2.06-2.06.94zm10 10l.94 2.06.94-2.06 2.06-.94-2.06-.94-.94-2.06-.94 2.06-2.06.94z\"/><path d=\"M17.41 7.96l-1.37-1.37c-.4-.4-.92-.59-1.43-.59-.52 0-1.04.2-1.43.59L10.3 9.45l-7.72 7.72c-.78.78-.78 2.05 0 2.83L4 21.41c.39.39.9.59 1.41.59.51 0 1.02-.2 1.41-.59l7.78-7.78 2.81-2.81c.8-.78.8-2.07 0-2.86zM5.41 20L4 18.59l7.72-7.72 1.47 1.35L5.41 20z\"/>\n",
              "  </svg>\n",
              "      </button>\n",
              "      \n",
              "  <style>\n",
              "    .colab-df-container {\n",
              "      display:flex;\n",
              "      flex-wrap:wrap;\n",
              "      gap: 12px;\n",
              "    }\n",
              "\n",
              "    .colab-df-convert {\n",
              "      background-color: #E8F0FE;\n",
              "      border: none;\n",
              "      border-radius: 50%;\n",
              "      cursor: pointer;\n",
              "      display: none;\n",
              "      fill: #1967D2;\n",
              "      height: 32px;\n",
              "      padding: 0 0 0 0;\n",
              "      width: 32px;\n",
              "    }\n",
              "\n",
              "    .colab-df-convert:hover {\n",
              "      background-color: #E2EBFA;\n",
              "      box-shadow: 0px 1px 2px rgba(60, 64, 67, 0.3), 0px 1px 3px 1px rgba(60, 64, 67, 0.15);\n",
              "      fill: #174EA6;\n",
              "    }\n",
              "\n",
              "    [theme=dark] .colab-df-convert {\n",
              "      background-color: #3B4455;\n",
              "      fill: #D2E3FC;\n",
              "    }\n",
              "\n",
              "    [theme=dark] .colab-df-convert:hover {\n",
              "      background-color: #434B5C;\n",
              "      box-shadow: 0px 1px 3px 1px rgba(0, 0, 0, 0.15);\n",
              "      filter: drop-shadow(0px 1px 2px rgba(0, 0, 0, 0.3));\n",
              "      fill: #FFFFFF;\n",
              "    }\n",
              "  </style>\n",
              "\n",
              "      <script>\n",
              "        const buttonEl =\n",
              "          document.querySelector('#df-fb64f9f5-3c29-4570-81f6-4a17e7bb121f button.colab-df-convert');\n",
              "        buttonEl.style.display =\n",
              "          google.colab.kernel.accessAllowed ? 'block' : 'none';\n",
              "\n",
              "        async function convertToInteractive(key) {\n",
              "          const element = document.querySelector('#df-fb64f9f5-3c29-4570-81f6-4a17e7bb121f');\n",
              "          const dataTable =\n",
              "            await google.colab.kernel.invokeFunction('convertToInteractive',\n",
              "                                                     [key], {});\n",
              "          if (!dataTable) return;\n",
              "\n",
              "          const docLinkHtml = 'Like what you see? Visit the ' +\n",
              "            '<a target=\"_blank\" href=https://colab.research.google.com/notebooks/data_table.ipynb>data table notebook</a>'\n",
              "            + ' to learn more about interactive tables.';\n",
              "          element.innerHTML = '';\n",
              "          dataTable['output_type'] = 'display_data';\n",
              "          await google.colab.output.renderOutput(dataTable, element);\n",
              "          const docLink = document.createElement('div');\n",
              "          docLink.innerHTML = docLinkHtml;\n",
              "          element.appendChild(docLink);\n",
              "        }\n",
              "      </script>\n",
              "    </div>\n",
              "  </div>\n",
              "  "
            ]
          },
          "metadata": {},
          "execution_count": 21
        }
      ]
    },
    {
      "cell_type": "code",
      "source": [
        "# visualize correlation matrix in Seaborn using a heatmap\n",
        "sns.heatmap(train.corr())\n",
        "plt.show()"
      ],
      "metadata": {
        "colab": {
          "base_uri": "https://localhost:8080/",
          "height": 330
        },
        "id": "9TkAkujallCC",
        "outputId": "7389416c-ae33-4a2a-8be9-2d2c5e79ff8c"
      },
      "execution_count": null,
      "outputs": [
        {
          "output_type": "display_data",
          "data": {
            "text/plain": [
              "<Figure size 432x288 with 2 Axes>"
            ],
            "image/png": "[encoded data removed]"
          },
          "metadata": {
            "needs_background": "light"
          }
        }
      ]
    },
    {
      "cell_type": "code",
      "source": [
        "# visualize correlation matrix in Seaborn using a heatmap\n",
        "sns.heatmap(test.corr())\n",
        "plt.show()"
      ],
      "metadata": {
        "colab": {
          "base_uri": "https://localhost:8080/",
          "height": 330
        },
        "id": "1JF0wkghlpTS",
        "outputId": "f27b485e-6fa5-4d0e-b173-b4cc51c7f544"
      },
      "execution_count": null,
      "outputs": [
        {
          "output_type": "display_data",
          "data": {
            "text/plain": [
              "<Figure size 432x288 with 2 Axes>"
            ],
            "image/png": "[encoded data removed]"
          },
          "metadata": {
            "needs_background": "light"
          }
        }
      ]
    },
    {
      "cell_type": "markdown",
      "source": [
        "Data Exploratory Analysis:"
      ],
      "metadata": {
        "id": "cNqxMN6VlwaQ"
      }
    },
    {
      "cell_type": "code",
      "source": [
        "# Store wise sales plot\n",
        "train['Store'].value_counts(normalize=True).plot(kind = 'bar',fig=(4,5))\n",
        "plt.show()"
      ],
      "metadata": {
        "colab": {
          "base_uri": "https://localhost:8080/",
          "height": 270
        },
        "id": "3ZRXfEOYlw5k",
        "outputId": "39ad015b-07b7-4099-c1eb-b5ae10872a6d"
      },
      "execution_count": null,
      "outputs": [
        {
          "output_type": "display_data",
          "data": {
            "text/plain": [
              "<Figure size 432x288 with 1 Axes>"
            ],
            "image/png": "[encoded data removed]"
          },
          "metadata": {
            "needs_background": "light"
          }
        }
      ]
    },
    {
      "cell_type": "code",
      "source": [
        "# weekly sales plot\n",
        "sns.distplot(train.Weekly_Sales)\n",
        "plt.show()"
      ],
      "metadata": {
        "colab": {
          "base_uri": "https://localhost:8080/",
          "height": 294
        },
        "id": "bkw-UkeRlz6h",
        "outputId": "49d3ae3e-045e-446a-85dd-e1b94ffb1ec7"
      },
      "execution_count": null,
      "outputs": [
        {
          "output_type": "display_data",
          "data": {
            "text/plain": [
              "<Figure size 432x288 with 1 Axes>"
            ],
            "image/png": "[encoded data removed]"
          },
          "metadata": {
            "needs_background": "light"
          }
        }
      ]
    },
    {
      "cell_type": "code",
      "source": [
        "# Store wise sales\n",
        "train.plot(kind='line', x='Weekly_Sales', y='Store', alpha=0.5)\n",
        "plt.show()"
      ],
      "metadata": {
        "colab": {
          "base_uri": "https://localhost:8080/",
          "height": 283
        },
        "id": "SiKf37t2mAE7",
        "outputId": "d0662c77-470f-4fcd-e24c-067569e18312"
      },
      "execution_count": null,
      "outputs": [
        {
          "output_type": "display_data",
          "data": {
            "text/plain": [
              "<Figure size 432x288 with 1 Axes>"
            ],
            "image/png": "[encoded data removed]"
          },
          "metadata": {
            "needs_background": "light"
          }
        }
      ]
    },
    {
      "cell_type": "markdown",
      "source": [
        "Sales Vs Type:"
      ],
      "metadata": {
        "id": "69X9356_m4K5"
      }
    },
    {
      "cell_type": "code",
      "source": [
        "# Weekly sales Type wise\n",
        "sns.barplot(x=train[\"Weekly_Sales\"],y=train[\"Type\"])\n",
        "plt.show()"
      ],
      "metadata": {
        "colab": {
          "base_uri": "https://localhost:8080/",
          "height": 283
        },
        "id": "58H0X4R0mCSf",
        "outputId": "a088ebab-36ac-4428-8042-a90daaf6f337"
      },
      "execution_count": null,
      "outputs": [
        {
          "output_type": "display_data",
          "data": {
            "text/plain": [
              "<Figure size 432x288 with 1 Axes>"
            ],
            "image/png": "[encoded data removed]"
          },
          "metadata": {
            "needs_background": "light"
          }
        }
      ]
    },
    {
      "cell_type": "markdown",
      "source": [
        "Department Weise sales:"
      ],
      "metadata": {
        "id": "SWMWJx0km-Sq"
      }
    },
    {
      "cell_type": "code",
      "source": [
        "train.plot(kind='line', x='Dept', y='Weekly_Sales', alpha=0.5,fig=(4,5))\n",
        "plt.show()"
      ],
      "metadata": {
        "colab": {
          "base_uri": "https://localhost:8080/",
          "height": 283
        },
        "id": "51oJL1_Qm-yr",
        "outputId": "5a4e64d8-2214-4437-802d-8e6004a83147"
      },
      "execution_count": null,
      "outputs": [
        {
          "output_type": "display_data",
          "data": {
            "text/plain": [
              "<Figure size 432x288 with 1 Axes>"
            ],
            "image/png": "[encoded data removed]"
          },
          "metadata": {
            "needs_background": "light"
          }
        }
      ]
    },
    {
      "cell_type": "markdown",
      "source": [
        "Missing value Treatment"
      ],
      "metadata": {
        "id": "o0iHKLpOnDyz"
      }
    },
    {
      "cell_type": "code",
      "source": [
        "print (train.isnull().sum())\n",
        "print (\"*\"*30)\n",
        "print (test.isnull().sum())"
      ],
      "metadata": {
        "colab": {
          "base_uri": "https://localhost:8080/"
        },
        "id": "pN4tOKhsnEVa",
        "outputId": "af663611-d5d8-4efd-bace-f665e555dca4"
      },
      "execution_count": null,
      "outputs": [
        {
          "output_type": "stream",
          "name": "stdout",
          "text": [
            "Store                0\n",
            "Dept                 0\n",
            "Date                 0\n",
            "Weekly_Sales         0\n",
            "IsHoliday            0\n",
            "Type                 0\n",
            "Size                 0\n",
            "Temperature          0\n",
            "Fuel_Price           0\n",
            "MarkDown1       270031\n",
            "MarkDown2       309308\n",
            "MarkDown3       283561\n",
            "MarkDown4       285694\n",
            "MarkDown5       269283\n",
            "CPI                  0\n",
            "Unemployment         0\n",
            "dtype: int64\n",
            "******************************\n",
            "Store               0\n",
            "Dept                0\n",
            "Date                0\n",
            "IsHoliday           0\n",
            "Type                0\n",
            "Size                0\n",
            "Temperature         0\n",
            "Fuel_Price          0\n",
            "MarkDown1         149\n",
            "MarkDown2       28627\n",
            "MarkDown3        9829\n",
            "MarkDown4       12888\n",
            "MarkDown5           0\n",
            "CPI             38162\n",
            "Unemployment    38162\n",
            "dtype: int64\n"
          ]
        }
      ]
    },
    {
      "cell_type": "markdown",
      "source": [
        "Imputing it with its mean"
      ],
      "metadata": {
        "id": "tE8uFsl_nI6_"
      }
    },
    {
      "cell_type": "code",
      "source": [
        "test['CPI']=test.groupby(['Dept'])['CPI'].transform(lambda x: x.fillna(x.mean()))\n",
        "test['Unemployment']=test.groupby(['Dept'])['Unemployment'].transform(lambda x: x.fillna(x.mean()))"
      ],
      "metadata": {
        "id": "dlD-bctTnJaq"
      },
      "execution_count": null,
      "outputs": []
    },
    {
      "cell_type": "markdown",
      "source": [
        "Other Missing Value Treatment like Markdown, Imputing it with Zero(No Markdown)"
      ],
      "metadata": {
        "id": "lRHlHNq9nNJ0"
      }
    },
    {
      "cell_type": "code",
      "source": [
        "train=train.fillna(0)\n",
        "test=test.fillna(0)"
      ],
      "metadata": {
        "id": "uNtGCh7znNnn"
      },
      "execution_count": null,
      "outputs": []
    },
    {
      "cell_type": "code",
      "source": [
        "# Recheck the missing values.\n",
        "\n",
        "print (train.isnull().sum())\n",
        "print (\"*\"*30)\n",
        "print (test.isnull().sum())"
      ],
      "metadata": {
        "colab": {
          "base_uri": "https://localhost:8080/"
        },
        "id": "PngQt3HFnPVL",
        "outputId": "9c6fc3d6-7818-4e3d-a0db-bea237b8d613"
      },
      "execution_count": null,
      "outputs": [
        {
          "output_type": "stream",
          "name": "stdout",
          "text": [
            "Store           0\n",
            "Dept            0\n",
            "Date            0\n",
            "Weekly_Sales    0\n",
            "IsHoliday       0\n",
            "Type            0\n",
            "Size            0\n",
            "Temperature     0\n",
            "Fuel_Price      0\n",
            "MarkDown1       0\n",
            "MarkDown2       0\n",
            "MarkDown3       0\n",
            "MarkDown4       0\n",
            "MarkDown5       0\n",
            "CPI             0\n",
            "Unemployment    0\n",
            "dtype: int64\n",
            "******************************\n",
            "Store           0\n",
            "Dept            0\n",
            "Date            0\n",
            "IsHoliday       0\n",
            "Type            0\n",
            "Size            0\n",
            "Temperature     0\n",
            "Fuel_Price      0\n",
            "MarkDown1       0\n",
            "MarkDown2       0\n",
            "MarkDown3       0\n",
            "MarkDown4       0\n",
            "MarkDown5       0\n",
            "CPI             0\n",
            "Unemployment    0\n",
            "dtype: int64\n"
          ]
        }
      ]
    },
    {
      "cell_type": "markdown",
      "source": [
        "Outlier Treatment"
      ],
      "metadata": {
        "id": "XsxzeQvqnT6L"
      }
    },
    {
      "cell_type": "code",
      "source": [
        "train.Weekly_Sales=np.where(train.Weekly_Sales>100000, 100000,train.Weekly_Sales)"
      ],
      "metadata": {
        "id": "CZrG8quFnUc-"
      },
      "execution_count": null,
      "outputs": []
    },
    {
      "cell_type": "code",
      "source": [
        "train.Weekly_Sales.plot.hist(bins=25)"
      ],
      "metadata": {
        "colab": {
          "base_uri": "https://localhost:8080/",
          "height": 286
        },
        "id": "B8zcqOoBnWsv",
        "outputId": "b98680e4-8d27-4986-a0e0-9fc2df457e51"
      },
      "execution_count": null,
      "outputs": [
        {
          "output_type": "execute_result",
          "data": {
            "text/plain": [
              "<matplotlib.axes._subplots.AxesSubplot at 0x7f785ff70a90>"
            ]
          },
          "metadata": {},
          "execution_count": 44
        },
        {
          "output_type": "display_data",
          "data": {
            "text/plain": [
              "<Figure size 432x288 with 1 Axes>"
            ],
            "image/png": "[encoded data removed]"
          },
          "metadata": {
            "needs_background": "light"
          }
        }
      ]
    },
    {
      "cell_type": "markdown",
      "source": [
        "Feature Extraction"
      ],
      "metadata": {
        "id": "oUfdPiX7nb04"
      }
    },
    {
      "cell_type": "code",
      "source": [
        "train.info()"
      ],
      "metadata": {
        "colab": {
          "base_uri": "https://localhost:8080/"
        },
        "id": "o37KhqVFncYA",
        "outputId": "c7b50ba5-8484-449d-f096-5c702c9c6716"
      },
      "execution_count": null,
      "outputs": [
        {
          "output_type": "stream",
          "name": "stdout",
          "text": [
            "<class 'pandas.core.frame.DataFrame'>\n",
            "Int64Index: 420212 entries, 0 to 421569\n",
            "Data columns (total 16 columns):\n",
            " #   Column        Non-Null Count   Dtype  \n",
            "---  ------        --------------   -----  \n",
            " 0   Store         420212 non-null  int64  \n",
            " 1   Dept          420212 non-null  int64  \n",
            " 2   Date          420212 non-null  object \n",
            " 3   Weekly_Sales  420212 non-null  float64\n",
            " 4   IsHoliday     420212 non-null  bool   \n",
            " 5   Type          420212 non-null  object \n",
            " 6   Size          420212 non-null  int64  \n",
            " 7   Temperature   420212 non-null  float64\n",
            " 8   Fuel_Price    420212 non-null  float64\n",
            " 9   MarkDown1     420212 non-null  float64\n",
            " 10  MarkDown2     420212 non-null  float64\n",
            " 11  MarkDown3     420212 non-null  float64\n",
            " 12  MarkDown4     420212 non-null  float64\n",
            " 13  MarkDown5     420212 non-null  float64\n",
            " 14  CPI           420212 non-null  float64\n",
            " 15  Unemployment  420212 non-null  float64\n",
            "dtypes: bool(1), float64(10), int64(3), object(2)\n",
            "memory usage: 67.8+ MB\n"
          ]
        }
      ]
    },
    {
      "cell_type": "markdown",
      "source": [
        "Date Feature"
      ],
      "metadata": {
        "id": "TurjIXXEnjeJ"
      }
    },
    {
      "cell_type": "code",
      "source": [
        "train['Date'] = pd.to_datetime(train['Date'])\n",
        "test['Date'] = pd.to_datetime(test['Date'])"
      ],
      "metadata": {
        "id": "ZfmNCy4anjxv"
      },
      "execution_count": null,
      "outputs": []
    },
    {
      "cell_type": "code",
      "source": [
        "# Extract date features\n",
        "train['Date_dayofweek'] =train['Date'].dt.dayofweek\n",
        "train['Date_month'] =train['Date'].dt.month \n",
        "train['Date_year'] =train['Date'].dt.year\n",
        "train['Date_day'] =train['Date'].dt.day \n",
        "\n",
        "# For test data\n",
        "test['Date_dayofweek'] =test['Date'].dt.dayofweek\n",
        "test['Date_month'] =test['Date'].dt.month \n",
        "test['Date_year'] =test['Date'].dt.year\n",
        "test['Date_day'] =test['Date'].dt.day"
      ],
      "metadata": {
        "id": "WVBWGraEnnPm"
      },
      "execution_count": null,
      "outputs": []
    },
    {
      "cell_type": "markdown",
      "source": [
        "Type Feature Details"
      ],
      "metadata": {
        "id": "Bd9nlItenrhs"
      }
    },
    {
      "cell_type": "code",
      "source": [
        "print (train.Type.value_counts())\n",
        "print (\"*\"*30)\n",
        "print (test.Type.value_counts())"
      ],
      "metadata": {
        "colab": {
          "base_uri": "https://localhost:8080/"
        },
        "id": "y5WB8d0Tnr_f",
        "outputId": "80f3e07c-1eee-4b00-ef2b-bb47aaa2eb30"
      },
      "execution_count": null,
      "outputs": [
        {
          "output_type": "stream",
          "name": "stdout",
          "text": [
            "A    214961\n",
            "B    162787\n",
            "C     42464\n",
            "Name: Type, dtype: int64\n",
            "******************************\n",
            "A    58713\n",
            "B    44500\n",
            "C    11851\n",
            "Name: Type, dtype: int64\n"
          ]
        }
      ]
    },
    {
      "cell_type": "markdown",
      "source": [
        "IsHoliday Feature Details"
      ],
      "metadata": {
        "id": "-YTMadUinv2g"
      }
    },
    {
      "cell_type": "code",
      "source": [
        "print (train.IsHoliday.value_counts())\n",
        "print (\"*\"*30)\n",
        "print (test.IsHoliday.value_counts())"
      ],
      "metadata": {
        "colab": {
          "base_uri": "https://localhost:8080/"
        },
        "id": "STE8sw2vnwWY",
        "outputId": "291b5685-e43f-4320-bf32-eca42baa72f3"
      },
      "execution_count": null,
      "outputs": [
        {
          "output_type": "stream",
          "name": "stdout",
          "text": [
            "False    390652\n",
            "True      29560\n",
            "Name: IsHoliday, dtype: int64\n",
            "******************************\n",
            "False    106136\n",
            "True       8928\n",
            "Name: IsHoliday, dtype: int64\n"
          ]
        }
      ]
    },
    {
      "cell_type": "code",
      "source": [
        "# Combine train and test with Key\n",
        "train_test_data = [train, test]"
      ],
      "metadata": {
        "id": "b4qGNxC9n0JO"
      },
      "execution_count": null,
      "outputs": []
    },
    {
      "cell_type": "markdown",
      "source": [
        "Converting Categorical Variable 'Type' into Numerical Variable For A=1 , B=2, C=3"
      ],
      "metadata": {
        "id": "m46HNUxYn2rL"
      }
    },
    {
      "cell_type": "code",
      "source": [
        "type_mapping = {\"A\": 1, \"B\": 2, \"C\": 3}\n",
        "for dataset in train_test_data:\n",
        "    dataset['Type'] = dataset['Type'].map(type_mapping)"
      ],
      "metadata": {
        "id": "kR4elyi_n3Z0"
      },
      "execution_count": null,
      "outputs": []
    },
    {
      "cell_type": "markdown",
      "source": [
        "Converting Categorical Variable 'IsHoliday' into Numerical Variable"
      ],
      "metadata": {
        "id": "IDN4Q_X5n6mE"
      }
    },
    {
      "cell_type": "code",
      "source": [
        "type_mapping = {False: 0, True: 1}\n",
        "for dataset in train_test_data:\n",
        "    dataset['IsHoliday'] = dataset['IsHoliday'].map(type_mapping)"
      ],
      "metadata": {
        "id": "RiVMdFJ-n7E9"
      },
      "execution_count": null,
      "outputs": []
    },
    {
      "cell_type": "markdown",
      "source": [
        "Creating Extra Holiday Variable.If that week comes under extra holiday then 1(=Yes) else 2(=No)\n",
        "\n",
        "Making New Holiday Variable Based on Given Data...."
      ],
      "metadata": {
        "id": "H1YqCnK3n--k"
      }
    },
    {
      "cell_type": "code",
      "source": [
        "# For Train Data Set\n",
        "train['Super_Bowl'] = np.where((train['Date']==datetime(2010, 2, 12)) | (train['Date']==datetime(2011, 2, 11)) | (train['Date']==datetime(2012, 2, 10)) | (train['Date']==datetime(2013, 2, 8)),1,0)\n",
        "train['Labour_Day'] = np.where((train['Date']==datetime(2010, 9, 10)) | (train['Date']==datetime(2011, 9, 9)) | (train['Date']==datetime(2012, 9, 7)) | (train['Date']==datetime(2013, 9, 6)),1,0)\n",
        "train['Thanksgiving'] = np.where((train['Date']==datetime(2010, 11, 26)) | (train['Date']==datetime(2011, 11, 25)) | (train['Date']==datetime(2012, 11, 23)) | (train['Date']==datetime(2013, 11, 29)),1,0)\n",
        "train['Christmas'] = np.where((train['Date']==datetime(2010, 12, 31)) | (train['Date']==datetime(2011, 12, 30)) | (train['Date']==datetime(2012, 12, 28)) | (train['Date']==datetime(2013, 12, 27)),1,0)\n",
        "\n",
        "#For Test Data set........................................................................\n",
        "test['Super_Bowl'] = np.where((test['Date']==datetime(2010, 2, 12)) | (test['Date']==datetime(2011, 2, 11)) | (test['Date']==datetime(2012, 2, 10)) | (test['Date']==datetime(2013, 2, 8)),1,0)\n",
        "test['Labour_Day'] = np.where((test['Date']==datetime(2010, 9, 10)) | (test['Date']==datetime(2011, 9, 9)) | (test['Date']==datetime(2012, 9, 7)) | (test['Date']==datetime(2013, 9, 6)),1,0)\n",
        "test['Thanksgiving'] = np.where((test['Date']==datetime(2010, 11, 26)) | (test['Date']==datetime(2011, 11, 25)) | (test['Date']==datetime(2012, 11, 23)) | (test['Date']==datetime(2013, 11, 29)),1,0)\n",
        "test['Christmas'] = np.where((test['Date']==datetime(2010, 12, 31)) | (test['Date']==datetime(2011, 12, 30)) | (test['Date']==datetime(2012, 12, 28)) | (test['Date']==datetime(2013, 12, 27)),1,0)"
      ],
      "metadata": {
        "id": "VmUi519In_fz"
      },
      "execution_count": null,
      "outputs": []
    },
    {
      "cell_type": "code",
      "source": [
        "# Change the isHoliday value depending on these new holidays...\n",
        "train['IsHoliday']=train['IsHoliday']|train['Super_Bowl']|train['Labour_Day']|train['Thanksgiving']|train['Christmas']\n",
        "test['IsHoliday']=test['IsHoliday']|test['Super_Bowl']|test['Labour_Day']|test['Thanksgiving']|test['Christmas']"
      ],
      "metadata": {
        "id": "gXJBP97boEvd"
      },
      "execution_count": null,
      "outputs": []
    },
    {
      "cell_type": "code",
      "source": [
        "# Count of holiday for train data\n",
        "print (train.Christmas.value_counts())\n",
        "print (train.Super_Bowl.value_counts())\n",
        "print (train.Thanksgiving.value_counts())\n",
        "print (train.Labour_Day.value_counts())"
      ],
      "metadata": {
        "colab": {
          "base_uri": "https://localhost:8080/"
        },
        "id": "_4lyuHnloHbe",
        "outputId": "d791ba61-992b-4ba9-dd69-275b67272061"
      },
      "execution_count": null,
      "outputs": [
        {
          "output_type": "stream",
          "name": "stdout",
          "text": [
            "0    414303\n",
            "1      5909\n",
            "Name: Christmas, dtype: int64\n",
            "0    411339\n",
            "1      8873\n",
            "Name: Super_Bowl, dtype: int64\n",
            "0    414266\n",
            "1      5946\n",
            "Name: Thanksgiving, dtype: int64\n",
            "0    411380\n",
            "1      8832\n",
            "Name: Labour_Day, dtype: int64\n"
          ]
        }
      ]
    },
    {
      "cell_type": "code",
      "source": [
        "# Count of holiday for Test data\n",
        "print (test.Christmas.value_counts())\n",
        "print (test.Super_Bowl.value_counts())\n",
        "print (test.Thanksgiving.value_counts())\n",
        "print (test.Labour_Day.value_counts())"
      ],
      "metadata": {
        "colab": {
          "base_uri": "https://localhost:8080/"
        },
        "id": "ku_TUVcPoJ9N",
        "outputId": "0f7617e2-f40d-4868-9c18-39669da2afd9"
      },
      "execution_count": null,
      "outputs": [
        {
          "output_type": "stream",
          "name": "stdout",
          "text": [
            "0    112076\n",
            "1      2988\n",
            "Name: Christmas, dtype: int64\n",
            "0    112100\n",
            "1      2964\n",
            "Name: Super_Bowl, dtype: int64\n",
            "0    112088\n",
            "1      2976\n",
            "Name: Thanksgiving, dtype: int64\n",
            "0    115064\n",
            "Name: Labour_Day, dtype: int64\n"
          ]
        }
      ]
    },
    {
      "cell_type": "code",
      "source": [
        "# Since we have Imputed IsHoliday according to Extra holidays..These extra holiday variable has redundant..\n",
        "# Droping the Extra holiday variables because its redundant..\n",
        "dp=['Super_Bowl','Labour_Day','Thanksgiving','Christmas']\n",
        "\n",
        "train.drop(dp,axis=1,inplace=True)\n",
        "test.drop(dp,axis=1,inplace=True)"
      ],
      "metadata": {
        "id": "0NlvV8cboMD6"
      },
      "execution_count": null,
      "outputs": []
    },
    {
      "cell_type": "code",
      "source": [
        "train.head(2)"
      ],
      "metadata": {
        "colab": {
          "base_uri": "https://localhost:8080/",
          "height": 211
        },
        "id": "mbJSupyPoN27",
        "outputId": "e37e573a-d79c-4604-9f88-b27f1ea45e31"
      },
      "execution_count": null,
      "outputs": [
        {
          "output_type": "execute_result",
          "data": {
            "text/plain": [
              "   Store  Dept       Date  Weekly_Sales  IsHoliday  Type    Size  Temperature  \\\n",
              "0      1     1 2010-02-05      24924.50          0     1  151315        42.31   \n",
              "1      1     2 2010-02-05      50605.27          0     1  151315        42.31   \n",
              "\n",
              "   Fuel_Price  MarkDown1  MarkDown2  MarkDown3  MarkDown4  MarkDown5  \\\n",
              "0       2.572        0.0        0.0        0.0        0.0        0.0   \n",
              "1       2.572        0.0        0.0        0.0        0.0        0.0   \n",
              "\n",
              "          CPI  Unemployment  Date_dayofweek  Date_month  Date_year  Date_day  \n",
              "0  211.096358         8.106               4           2       2010         5  \n",
              "1  211.096358         8.106               4           2       2010         5  "
            ],
            "text/html": [
              "\n",
              "  <div id=\"df-6d106e24-13f1-4d00-baff-b3e832e5ea94\">\n",
              "    <div class=\"colab-df-container\">\n",
              "      <div>\n",
              "<style scoped>\n",
              "    .dataframe tbody tr th:only-of-type {\n",
              "        vertical-align: middle;\n",
              "    }\n",
              "\n",
              "    .dataframe tbody tr th {\n",
              "        vertical-align: top;\n",
              "    }\n",
              "\n",
              "    .dataframe thead th {\n",
              "        text-align: right;\n",
              "    }\n",
              "</style>\n",
              "<table border=\"1\" class=\"dataframe\">\n",
              "  <thead>\n",
              "    <tr style=\"text-align: right;\">\n",
              "      <th></th>\n",
              "      <th>Store</th>\n",
              "      <th>Dept</th>\n",
              "      <th>Date</th>\n",
              "      <th>Weekly_Sales</th>\n",
              "      <th>IsHoliday</th>\n",
              "      <th>Type</th>\n",
              "      <th>Size</th>\n",
              "      <th>Temperature</th>\n",
              "      <th>Fuel_Price</th>\n",
              "      <th>MarkDown1</th>\n",
              "      <th>MarkDown2</th>\n",
              "      <th>MarkDown3</th>\n",
              "      <th>MarkDown4</th>\n",
              "      <th>MarkDown5</th>\n",
              "      <th>CPI</th>\n",
              "      <th>Unemployment</th>\n",
              "      <th>Date_dayofweek</th>\n",
              "      <th>Date_month</th>\n",
              "      <th>Date_year</th>\n",
              "      <th>Date_day</th>\n",
              "    </tr>\n",
              "  </thead>\n",
              "  <tbody>\n",
              "    <tr>\n",
              "      <th>0</th>\n",
              "      <td>1</td>\n",
              "      <td>1</td>\n",
              "      <td>2010-02-05</td>\n",
              "      <td>24924.50</td>\n",
              "      <td>0</td>\n",
              "      <td>1</td>\n",
              "      <td>151315</td>\n",
              "      <td>42.31</td>\n",
              "      <td>2.572</td>\n",
              "      <td>0.0</td>\n",
              "      <td>0.0</td>\n",
              "      <td>0.0</td>\n",
              "      <td>0.0</td>\n",
              "      <td>0.0</td>\n",
              "      <td>211.096358</td>\n",
              "      <td>8.106</td>\n",
              "      <td>4</td>\n",
              "      <td>2</td>\n",
              "      <td>2010</td>\n",
              "      <td>5</td>\n",
              "    </tr>\n",
              "    <tr>\n",
              "      <th>1</th>\n",
              "      <td>1</td>\n",
              "      <td>2</td>\n",
              "      <td>2010-02-05</td>\n",
              "      <td>50605.27</td>\n",
              "      <td>0</td>\n",
              "      <td>1</td>\n",
              "      <td>151315</td>\n",
              "      <td>42.31</td>\n",
              "      <td>2.572</td>\n",
              "      <td>0.0</td>\n",
              "      <td>0.0</td>\n",
              "      <td>0.0</td>\n",
              "      <td>0.0</td>\n",
              "      <td>0.0</td>\n",
              "      <td>211.096358</td>\n",
              "      <td>8.106</td>\n",
              "      <td>4</td>\n",
              "      <td>2</td>\n",
              "      <td>2010</td>\n",
              "      <td>5</td>\n",
              "    </tr>\n",
              "  </tbody>\n",
              "</table>\n",
              "</div>\n",
              "      <button class=\"colab-df-convert\" onclick=\"convertToInteractive('df-6d106e24-13f1-4d00-baff-b3e832e5ea94')\"\n",
              "              title=\"Convert this dataframe to an interactive table.\"\n",
              "              style=\"display:none;\">\n",
              "        \n",
              "  <svg xmlns=\"http://www.w3.org/2000/svg\" height=\"24px\"viewBox=\"0 0 24 24\"\n",
              "       width=\"24px\">\n",
              "    <path d=\"M0 0h24v24H0V0z\" fill=\"none\"/>\n",
              "    <path d=\"M18.56 5.44l.94 2.06.94-2.06 2.06-.94-2.06-.94-.94-2.06-.94 2.06-2.06.94zm-11 1L8.5 8.5l.94-2.06 2.06-.94-2.06-.94L8.5 2.5l-.94 2.06-2.06.94zm10 10l.94 2.06.94-2.06 2.06-.94-2.06-.94-.94-2.06-.94 2.06-2.06.94z\"/><path d=\"M17.41 7.96l-1.37-1.37c-.4-.4-.92-.59-1.43-.59-.52 0-1.04.2-1.43.59L10.3 9.45l-7.72 7.72c-.78.78-.78 2.05 0 2.83L4 21.41c.39.39.9.59 1.41.59.51 0 1.02-.2 1.41-.59l7.78-7.78 2.81-2.81c.8-.78.8-2.07 0-2.86zM5.41 20L4 18.59l7.72-7.72 1.47 1.35L5.41 20z\"/>\n",
              "  </svg>\n",
              "      </button>\n",
              "      \n",
              "  <style>\n",
              "    .colab-df-container {\n",
              "      display:flex;\n",
              "      flex-wrap:wrap;\n",
              "      gap: 12px;\n",
              "    }\n",
              "\n",
              "    .colab-df-convert {\n",
              "      background-color: #E8F0FE;\n",
              "      border: none;\n",
              "      border-radius: 50%;\n",
              "      cursor: pointer;\n",
              "      display: none;\n",
              "      fill: #1967D2;\n",
              "      height: 32px;\n",
              "      padding: 0 0 0 0;\n",
              "      width: 32px;\n",
              "    }\n",
              "\n",
              "    .colab-df-convert:hover {\n",
              "      background-color: #E2EBFA;\n",
              "      box-shadow: 0px 1px 2px rgba(60, 64, 67, 0.3), 0px 1px 3px 1px rgba(60, 64, 67, 0.15);\n",
              "      fill: #174EA6;\n",
              "    }\n",
              "\n",
              "    [theme=dark] .colab-df-convert {\n",
              "      background-color: #3B4455;\n",
              "      fill: #D2E3FC;\n",
              "    }\n",
              "\n",
              "    [theme=dark] .colab-df-convert:hover {\n",
              "      background-color: #434B5C;\n",
              "      box-shadow: 0px 1px 3px 1px rgba(0, 0, 0, 0.15);\n",
              "      filter: drop-shadow(0px 1px 2px rgba(0, 0, 0, 0.3));\n",
              "      fill: #FFFFFF;\n",
              "    }\n",
              "  </style>\n",
              "\n",
              "      <script>\n",
              "        const buttonEl =\n",
              "          document.querySelector('#df-6d106e24-13f1-4d00-baff-b3e832e5ea94 button.colab-df-convert');\n",
              "        buttonEl.style.display =\n",
              "          google.colab.kernel.accessAllowed ? 'block' : 'none';\n",
              "\n",
              "        async function convertToInteractive(key) {\n",
              "          const element = document.querySelector('#df-6d106e24-13f1-4d00-baff-b3e832e5ea94');\n",
              "          const dataTable =\n",
              "            await google.colab.kernel.invokeFunction('convertToInteractive',\n",
              "                                                     [key], {});\n",
              "          if (!dataTable) return;\n",
              "\n",
              "          const docLinkHtml = 'Like what you see? Visit the ' +\n",
              "            '<a target=\"_blank\" href=https://colab.research.google.com/notebooks/data_table.ipynb>data table notebook</a>'\n",
              "            + ' to learn more about interactive tables.';\n",
              "          element.innerHTML = '';\n",
              "          dataTable['output_type'] = 'display_data';\n",
              "          await google.colab.output.renderOutput(dataTable, element);\n",
              "          const docLink = document.createElement('div');\n",
              "          docLink.innerHTML = docLinkHtml;\n",
              "          element.appendChild(docLink);\n",
              "        }\n",
              "      </script>\n",
              "    </div>\n",
              "  </div>\n",
              "  "
            ]
          },
          "metadata": {},
          "execution_count": 59
        }
      ]
    },
    {
      "cell_type": "markdown",
      "source": [
        "Feature Selection"
      ],
      "metadata": {
        "id": "Uz44ZpU7oQoM"
      }
    },
    {
      "cell_type": "markdown",
      "source": [
        "Droping irrevelent variable:\n",
        "-Since we have imputed markdown variables therefore we will not be removing the all markdown variables.\n",
        "-Removing MarkDown5 because its Highly Skewed."
      ],
      "metadata": {
        "id": "o0vnCn9-oUrf"
      }
    },
    {
      "cell_type": "code",
      "source": [
        "features_drop=['Unemployment','CPI','MarkDown5']\n",
        "train=train.drop(features_drop, axis=1)\n",
        "test=test.drop(features_drop, axis=1)"
      ],
      "metadata": {
        "id": "Hi3SC6GaoRvW"
      },
      "execution_count": null,
      "outputs": []
    },
    {
      "cell_type": "code",
      "source": [
        "train.head(2)"
      ],
      "metadata": {
        "colab": {
          "base_uri": "https://localhost:8080/",
          "height": 211
        },
        "id": "Xgx9cx-CoUWG",
        "outputId": "e045fb63-3356-43f5-b40f-3483766cb1bf"
      },
      "execution_count": null,
      "outputs": [
        {
          "output_type": "execute_result",
          "data": {
            "text/plain": [
              "   Store  Dept       Date  Weekly_Sales  IsHoliday  Type    Size  Temperature  \\\n",
              "0      1     1 2010-02-05      24924.50          0     1  151315        42.31   \n",
              "1      1     2 2010-02-05      50605.27          0     1  151315        42.31   \n",
              "\n",
              "   Fuel_Price  MarkDown1  MarkDown2  MarkDown3  MarkDown4  Date_dayofweek  \\\n",
              "0       2.572        0.0        0.0        0.0        0.0               4   \n",
              "1       2.572        0.0        0.0        0.0        0.0               4   \n",
              "\n",
              "   Date_month  Date_year  Date_day  \n",
              "0           2       2010         5  \n",
              "1           2       2010         5  "
            ],
            "text/html": [
              "\n",
              "  <div id=\"df-726db2a6-338f-4e1c-84cd-2efad4c6f1da\">\n",
              "    <div class=\"colab-df-container\">\n",
              "      <div>\n",
              "<style scoped>\n",
              "    .dataframe tbody tr th:only-of-type {\n",
              "        vertical-align: middle;\n",
              "    }\n",
              "\n",
              "    .dataframe tbody tr th {\n",
              "        vertical-align: top;\n",
              "    }\n",
              "\n",
              "    .dataframe thead th {\n",
              "        text-align: right;\n",
              "    }\n",
              "</style>\n",
              "<table border=\"1\" class=\"dataframe\">\n",
              "  <thead>\n",
              "    <tr style=\"text-align: right;\">\n",
              "      <th></th>\n",
              "      <th>Store</th>\n",
              "      <th>Dept</th>\n",
              "      <th>Date</th>\n",
              "      <th>Weekly_Sales</th>\n",
              "      <th>IsHoliday</th>\n",
              "      <th>Type</th>\n",
              "      <th>Size</th>\n",
              "      <th>Temperature</th>\n",
              "      <th>Fuel_Price</th>\n",
              "      <th>MarkDown1</th>\n",
              "      <th>MarkDown2</th>\n",
              "      <th>MarkDown3</th>\n",
              "      <th>MarkDown4</th>\n",
              "      <th>Date_dayofweek</th>\n",
              "      <th>Date_month</th>\n",
              "      <th>Date_year</th>\n",
              "      <th>Date_day</th>\n",
              "    </tr>\n",
              "  </thead>\n",
              "  <tbody>\n",
              "    <tr>\n",
              "      <th>0</th>\n",
              "      <td>1</td>\n",
              "      <td>1</td>\n",
              "      <td>2010-02-05</td>\n",
              "      <td>24924.50</td>\n",
              "      <td>0</td>\n",
              "      <td>1</td>\n",
              "      <td>151315</td>\n",
              "      <td>42.31</td>\n",
              "      <td>2.572</td>\n",
              "      <td>0.0</td>\n",
              "      <td>0.0</td>\n",
              "      <td>0.0</td>\n",
              "      <td>0.0</td>\n",
              "      <td>4</td>\n",
              "      <td>2</td>\n",
              "      <td>2010</td>\n",
              "      <td>5</td>\n",
              "    </tr>\n",
              "    <tr>\n",
              "      <th>1</th>\n",
              "      <td>1</td>\n",
              "      <td>2</td>\n",
              "      <td>2010-02-05</td>\n",
              "      <td>50605.27</td>\n",
              "      <td>0</td>\n",
              "      <td>1</td>\n",
              "      <td>151315</td>\n",
              "      <td>42.31</td>\n",
              "      <td>2.572</td>\n",
              "      <td>0.0</td>\n",
              "      <td>0.0</td>\n",
              "      <td>0.0</td>\n",
              "      <td>0.0</td>\n",
              "      <td>4</td>\n",
              "      <td>2</td>\n",
              "      <td>2010</td>\n",
              "      <td>5</td>\n",
              "    </tr>\n",
              "  </tbody>\n",
              "</table>\n",
              "</div>\n",
              "      <button class=\"colab-df-convert\" onclick=\"convertToInteractive('df-726db2a6-338f-4e1c-84cd-2efad4c6f1da')\"\n",
              "              title=\"Convert this dataframe to an interactive table.\"\n",
              "              style=\"display:none;\">\n",
              "        \n",
              "  <svg xmlns=\"http://www.w3.org/2000/svg\" height=\"24px\"viewBox=\"0 0 24 24\"\n",
              "       width=\"24px\">\n",
              "    <path d=\"M0 0h24v24H0V0z\" fill=\"none\"/>\n",
              "    <path d=\"M18.56 5.44l.94 2.06.94-2.06 2.06-.94-2.06-.94-.94-2.06-.94 2.06-2.06.94zm-11 1L8.5 8.5l.94-2.06 2.06-.94-2.06-.94L8.5 2.5l-.94 2.06-2.06.94zm10 10l.94 2.06.94-2.06 2.06-.94-2.06-.94-.94-2.06-.94 2.06-2.06.94z\"/><path d=\"M17.41 7.96l-1.37-1.37c-.4-.4-.92-.59-1.43-.59-.52 0-1.04.2-1.43.59L10.3 9.45l-7.72 7.72c-.78.78-.78 2.05 0 2.83L4 21.41c.39.39.9.59 1.41.59.51 0 1.02-.2 1.41-.59l7.78-7.78 2.81-2.81c.8-.78.8-2.07 0-2.86zM5.41 20L4 18.59l7.72-7.72 1.47 1.35L5.41 20z\"/>\n",
              "  </svg>\n",
              "      </button>\n",
              "      \n",
              "  <style>\n",
              "    .colab-df-container {\n",
              "      display:flex;\n",
              "      flex-wrap:wrap;\n",
              "      gap: 12px;\n",
              "    }\n",
              "\n",
              "    .colab-df-convert {\n",
              "      background-color: #E8F0FE;\n",
              "      border: none;\n",
              "      border-radius: 50%;\n",
              "      cursor: pointer;\n",
              "      display: none;\n",
              "      fill: #1967D2;\n",
              "      height: 32px;\n",
              "      padding: 0 0 0 0;\n",
              "      width: 32px;\n",
              "    }\n",
              "\n",
              "    .colab-df-convert:hover {\n",
              "      background-color: #E2EBFA;\n",
              "      box-shadow: 0px 1px 2px rgba(60, 64, 67, 0.3), 0px 1px 3px 1px rgba(60, 64, 67, 0.15);\n",
              "      fill: #174EA6;\n",
              "    }\n",
              "\n",
              "    [theme=dark] .colab-df-convert {\n",
              "      background-color: #3B4455;\n",
              "      fill: #D2E3FC;\n",
              "    }\n",
              "\n",
              "    [theme=dark] .colab-df-convert:hover {\n",
              "      background-color: #434B5C;\n",
              "      box-shadow: 0px 1px 3px 1px rgba(0, 0, 0, 0.15);\n",
              "      filter: drop-shadow(0px 1px 2px rgba(0, 0, 0, 0.3));\n",
              "      fill: #FFFFFF;\n",
              "    }\n",
              "  </style>\n",
              "\n",
              "      <script>\n",
              "        const buttonEl =\n",
              "          document.querySelector('#df-726db2a6-338f-4e1c-84cd-2efad4c6f1da button.colab-df-convert');\n",
              "        buttonEl.style.display =\n",
              "          google.colab.kernel.accessAllowed ? 'block' : 'none';\n",
              "\n",
              "        async function convertToInteractive(key) {\n",
              "          const element = document.querySelector('#df-726db2a6-338f-4e1c-84cd-2efad4c6f1da');\n",
              "          const dataTable =\n",
              "            await google.colab.kernel.invokeFunction('convertToInteractive',\n",
              "                                                     [key], {});\n",
              "          if (!dataTable) return;\n",
              "\n",
              "          const docLinkHtml = 'Like what you see? Visit the ' +\n",
              "            '<a target=\"_blank\" href=https://colab.research.google.com/notebooks/data_table.ipynb>data table notebook</a>'\n",
              "            + ' to learn more about interactive tables.';\n",
              "          element.innerHTML = '';\n",
              "          dataTable['output_type'] = 'display_data';\n",
              "          await google.colab.output.renderOutput(dataTable, element);\n",
              "          const docLink = document.createElement('div');\n",
              "          docLink.innerHTML = docLinkHtml;\n",
              "          element.appendChild(docLink);\n",
              "        }\n",
              "      </script>\n",
              "    </div>\n",
              "  </div>\n",
              "  "
            ]
          },
          "metadata": {},
          "execution_count": 61
        }
      ]
    },
    {
      "cell_type": "code",
      "source": [
        "test.head(2)"
      ],
      "metadata": {
        "colab": {
          "base_uri": "https://localhost:8080/",
          "height": 211
        },
        "id": "obh5wphhoatM",
        "outputId": "6cfbf246-8a7f-4058-e42d-5cba3ceeeb95"
      },
      "execution_count": null,
      "outputs": [
        {
          "output_type": "execute_result",
          "data": {
            "text/plain": [
              "   Store  Dept       Date  IsHoliday  Type    Size  Temperature  Fuel_Price  \\\n",
              "0      1     1 2012-11-02          0     1  151315        55.32       3.386   \n",
              "1      1     2 2012-11-02          0     1  151315        55.32       3.386   \n",
              "\n",
              "   MarkDown1  MarkDown2  MarkDown3  MarkDown4  Date_dayofweek  Date_month  \\\n",
              "0    6766.44     5147.7      50.82     3639.9               4          11   \n",
              "1    6766.44     5147.7      50.82     3639.9               4          11   \n",
              "\n",
              "   Date_year  Date_day  \n",
              "0       2012         2  \n",
              "1       2012         2  "
            ],
            "text/html": [
              "\n",
              "  <div id=\"df-d39e2ca5-4203-40dd-910e-8620f16cf976\">\n",
              "    <div class=\"colab-df-container\">\n",
              "      <div>\n",
              "<style scoped>\n",
              "    .dataframe tbody tr th:only-of-type {\n",
              "        vertical-align: middle;\n",
              "    }\n",
              "\n",
              "    .dataframe tbody tr th {\n",
              "        vertical-align: top;\n",
              "    }\n",
              "\n",
              "    .dataframe thead th {\n",
              "        text-align: right;\n",
              "    }\n",
              "</style>\n",
              "<table border=\"1\" class=\"dataframe\">\n",
              "  <thead>\n",
              "    <tr style=\"text-align: right;\">\n",
              "      <th></th>\n",
              "      <th>Store</th>\n",
              "      <th>Dept</th>\n",
              "      <th>Date</th>\n",
              "      <th>IsHoliday</th>\n",
              "      <th>Type</th>\n",
              "      <th>Size</th>\n",
              "      <th>Temperature</th>\n",
              "      <th>Fuel_Price</th>\n",
              "      <th>MarkDown1</th>\n",
              "      <th>MarkDown2</th>\n",
              "      <th>MarkDown3</th>\n",
              "      <th>MarkDown4</th>\n",
              "      <th>Date_dayofweek</th>\n",
              "      <th>Date_month</th>\n",
              "      <th>Date_year</th>\n",
              "      <th>Date_day</th>\n",
              "    </tr>\n",
              "  </thead>\n",
              "  <tbody>\n",
              "    <tr>\n",
              "      <th>0</th>\n",
              "      <td>1</td>\n",
              "      <td>1</td>\n",
              "      <td>2012-11-02</td>\n",
              "      <td>0</td>\n",
              "      <td>1</td>\n",
              "      <td>151315</td>\n",
              "      <td>55.32</td>\n",
              "      <td>3.386</td>\n",
              "      <td>6766.44</td>\n",
              "      <td>5147.7</td>\n",
              "      <td>50.82</td>\n",
              "      <td>3639.9</td>\n",
              "      <td>4</td>\n",
              "      <td>11</td>\n",
              "      <td>2012</td>\n",
              "      <td>2</td>\n",
              "    </tr>\n",
              "    <tr>\n",
              "      <th>1</th>\n",
              "      <td>1</td>\n",
              "      <td>2</td>\n",
              "      <td>2012-11-02</td>\n",
              "      <td>0</td>\n",
              "      <td>1</td>\n",
              "      <td>151315</td>\n",
              "      <td>55.32</td>\n",
              "      <td>3.386</td>\n",
              "      <td>6766.44</td>\n",
              "      <td>5147.7</td>\n",
              "      <td>50.82</td>\n",
              "      <td>3639.9</td>\n",
              "      <td>4</td>\n",
              "      <td>11</td>\n",
              "      <td>2012</td>\n",
              "      <td>2</td>\n",
              "    </tr>\n",
              "  </tbody>\n",
              "</table>\n",
              "</div>\n",
              "      <button class=\"colab-df-convert\" onclick=\"convertToInteractive('df-d39e2ca5-4203-40dd-910e-8620f16cf976')\"\n",
              "              title=\"Convert this dataframe to an interactive table.\"\n",
              "              style=\"display:none;\">\n",
              "        \n",
              "  <svg xmlns=\"http://www.w3.org/2000/svg\" height=\"24px\"viewBox=\"0 0 24 24\"\n",
              "       width=\"24px\">\n",
              "    <path d=\"M0 0h24v24H0V0z\" fill=\"none\"/>\n",
              "    <path d=\"M18.56 5.44l.94 2.06.94-2.06 2.06-.94-2.06-.94-.94-2.06-.94 2.06-2.06.94zm-11 1L8.5 8.5l.94-2.06 2.06-.94-2.06-.94L8.5 2.5l-.94 2.06-2.06.94zm10 10l.94 2.06.94-2.06 2.06-.94-2.06-.94-.94-2.06-.94 2.06-2.06.94z\"/><path d=\"M17.41 7.96l-1.37-1.37c-.4-.4-.92-.59-1.43-.59-.52 0-1.04.2-1.43.59L10.3 9.45l-7.72 7.72c-.78.78-.78 2.05 0 2.83L4 21.41c.39.39.9.59 1.41.59.51 0 1.02-.2 1.41-.59l7.78-7.78 2.81-2.81c.8-.78.8-2.07 0-2.86zM5.41 20L4 18.59l7.72-7.72 1.47 1.35L5.41 20z\"/>\n",
              "  </svg>\n",
              "      </button>\n",
              "      \n",
              "  <style>\n",
              "    .colab-df-container {\n",
              "      display:flex;\n",
              "      flex-wrap:wrap;\n",
              "      gap: 12px;\n",
              "    }\n",
              "\n",
              "    .colab-df-convert {\n",
              "      background-color: #E8F0FE;\n",
              "      border: none;\n",
              "      border-radius: 50%;\n",
              "      cursor: pointer;\n",
              "      display: none;\n",
              "      fill: #1967D2;\n",
              "      height: 32px;\n",
              "      padding: 0 0 0 0;\n",
              "      width: 32px;\n",
              "    }\n",
              "\n",
              "    .colab-df-convert:hover {\n",
              "      background-color: #E2EBFA;\n",
              "      box-shadow: 0px 1px 2px rgba(60, 64, 67, 0.3), 0px 1px 3px 1px rgba(60, 64, 67, 0.15);\n",
              "      fill: #174EA6;\n",
              "    }\n",
              "\n",
              "    [theme=dark] .colab-df-convert {\n",
              "      background-color: #3B4455;\n",
              "      fill: #D2E3FC;\n",
              "    }\n",
              "\n",
              "    [theme=dark] .colab-df-convert:hover {\n",
              "      background-color: #434B5C;\n",
              "      box-shadow: 0px 1px 3px 1px rgba(0, 0, 0, 0.15);\n",
              "      filter: drop-shadow(0px 1px 2px rgba(0, 0, 0, 0.3));\n",
              "      fill: #FFFFFF;\n",
              "    }\n",
              "  </style>\n",
              "\n",
              "      <script>\n",
              "        const buttonEl =\n",
              "          document.querySelector('#df-d39e2ca5-4203-40dd-910e-8620f16cf976 button.colab-df-convert');\n",
              "        buttonEl.style.display =\n",
              "          google.colab.kernel.accessAllowed ? 'block' : 'none';\n",
              "\n",
              "        async function convertToInteractive(key) {\n",
              "          const element = document.querySelector('#df-d39e2ca5-4203-40dd-910e-8620f16cf976');\n",
              "          const dataTable =\n",
              "            await google.colab.kernel.invokeFunction('convertToInteractive',\n",
              "                                                     [key], {});\n",
              "          if (!dataTable) return;\n",
              "\n",
              "          const docLinkHtml = 'Like what you see? Visit the ' +\n",
              "            '<a target=\"_blank\" href=https://colab.research.google.com/notebooks/data_table.ipynb>data table notebook</a>'\n",
              "            + ' to learn more about interactive tables.';\n",
              "          element.innerHTML = '';\n",
              "          dataTable['output_type'] = 'display_data';\n",
              "          await google.colab.output.renderOutput(dataTable, element);\n",
              "          const docLink = document.createElement('div');\n",
              "          docLink.innerHTML = docLinkHtml;\n",
              "          element.appendChild(docLink);\n",
              "        }\n",
              "      </script>\n",
              "    </div>\n",
              "  </div>\n",
              "  "
            ]
          },
          "metadata": {},
          "execution_count": 62
        }
      ]
    },
    {
      "cell_type": "code",
      "source": [
        "# Converting all float var to int integer..\n",
        "for var in train:\n",
        "    if train[var].dtypes == float:\n",
        "        train[var]=train[var].astype(int)\n",
        "        \n",
        "for var in test:\n",
        "    if test[var].dtypes == float:\n",
        "        test[var]=test[var].astype(int)"
      ],
      "metadata": {
        "id": "K0ZQOITZodPT"
      },
      "execution_count": null,
      "outputs": []
    },
    {
      "cell_type": "markdown",
      "source": [
        "First we should Check Y is normally distributed or not"
      ],
      "metadata": {
        "id": "v9Dkqc_6of4J"
      }
    },
    {
      "cell_type": "code",
      "source": [
        "import seaborn as sns\n",
        "sns.distplot(train.Weekly_Sales)"
      ],
      "metadata": {
        "colab": {
          "base_uri": "https://localhost:8080/",
          "height": 300
        },
        "id": "UIr2Jtwoogfe",
        "outputId": "569ab91d-af6b-47f7-f80f-4b49a2c90541"
      },
      "execution_count": null,
      "outputs": [
        {
          "output_type": "execute_result",
          "data": {
            "text/plain": [
              "<matplotlib.axes._subplots.AxesSubplot at 0x7f785fe0d150>"
            ]
          },
          "metadata": {},
          "execution_count": 64
        },
        {
          "output_type": "display_data",
          "data": {
            "text/plain": [
              "<Figure size 432x288 with 1 Axes>"
            ],
            "image/png": "[encoded data removed]"
          },
          "metadata": {
            "needs_background": "light"
          }
        }
      ]
    },
    {
      "cell_type": "markdown",
      "source": [
        "As we can see above fig y is not normally distributed so we will take log of Y"
      ],
      "metadata": {
        "id": "BwerQmOWok8w"
      }
    },
    {
      "cell_type": "code",
      "source": [
        "train['Weekly_Sales']=np.log(train['Weekly_Sales']+1)"
      ],
      "metadata": {
        "id": "i681cxj5olcY"
      },
      "execution_count": null,
      "outputs": []
    },
    {
      "cell_type": "code",
      "source": [
        "sns.distplot(train.Weekly_Sales)"
      ],
      "metadata": {
        "colab": {
          "base_uri": "https://localhost:8080/",
          "height": 300
        },
        "id": "Ea55YiEeooz1",
        "outputId": "8fd860d3-1ab5-4e7a-edfc-bbf218e1cc0d"
      },
      "execution_count": null,
      "outputs": [
        {
          "output_type": "execute_result",
          "data": {
            "text/plain": [
              "<matplotlib.axes._subplots.AxesSubplot at 0x7f785fd4e690>"
            ]
          },
          "metadata": {},
          "execution_count": 66
        },
        {
          "output_type": "display_data",
          "data": {
            "text/plain": [
              "<Figure size 432x288 with 1 Axes>"
            ],
            "image/png": "[encoded data removed]"
          },
          "metadata": {
            "needs_background": "light"
          }
        }
      ]
    },
    {
      "cell_type": "code",
      "source": [
        "# Now check residuals\n",
        "from scipy import stats\n",
        "import pylab\n",
        "\n",
        "stats.probplot(train.Weekly_Sales, dist=\"norm\", plot=pylab )\n",
        "pylab.show()"
      ],
      "metadata": {
        "colab": {
          "base_uri": "https://localhost:8080/",
          "height": 298
        },
        "id": "xXc3KKWZoryG",
        "outputId": "23235d1c-3037-423c-876d-9531557d432d"
      },
      "execution_count": null,
      "outputs": [
        {
          "output_type": "display_data",
          "data": {
            "text/plain": [
              "<Figure size 432x288 with 1 Axes>"
            ],
            "image/png": "[encoded data removed]"
          },
          "metadata": {
            "needs_background": "light"
          }
        }
      ]
    },
    {
      "cell_type": "markdown",
      "source": [
        "# Classification & Accuracy"
      ],
      "metadata": {
        "id": "xrJbTZosowCY"
      }
    },
    {
      "cell_type": "markdown",
      "source": [
        "Define training and testing set"
      ],
      "metadata": {
        "id": "-A7Wf1T1ozF3"
      }
    },
    {
      "cell_type": "code",
      "source": [
        "#### train X= Exery thing except Weekly_Sales\n",
        "train_X=train.drop(['Weekly_Sales','Date'], axis=1)\n",
        "\n",
        "#### train Y= Only Weekly_Sales \n",
        "train_y=train['Weekly_Sales'] \n",
        "\n",
        "#### Test_X\n",
        "test_X=test.drop('Date',axis=1).copy()\n",
        "\n",
        "train_X.shape, train_y.shape, test_X.shape"
      ],
      "metadata": {
        "colab": {
          "base_uri": "https://localhost:8080/"
        },
        "id": "mD5eX4aJow8g",
        "outputId": "9ede3fb0-c849-4b5d-9e66-cc8fec66b21f"
      },
      "execution_count": null,
      "outputs": [
        {
          "output_type": "execute_result",
          "data": {
            "text/plain": [
              "((420212, 15), (420212,), (115064, 15))"
            ]
          },
          "metadata": {},
          "execution_count": 68
        }
      ]
    },
    {
      "cell_type": "markdown",
      "source": [
        "Building models & comparing their RMSE values\n",
        "1.Linear Regression"
      ],
      "metadata": {
        "id": "yt7IeNHKo3kN"
      }
    },
    {
      "cell_type": "code",
      "source": [
        "## Methood 1..\n",
        "clf = LinearRegression()\n",
        "clf.fit(train_X, train_y)\n",
        "y_pred_linear=clf.predict(test_X)\n",
        "acc_linear=round( clf.score(train_X, train_y) * 100, 2)\n",
        "print ('scorbe:'+str(acc_linear) + ' percent')"
      ],
      "metadata": {
        "colab": {
          "base_uri": "https://localhost:8080/"
        },
        "id": "n7PWiVJqo4GK",
        "outputId": "6e2b9770-81b5-435c-fcae-33bf002d4343"
      },
      "execution_count": null,
      "outputs": [
        {
          "output_type": "stream",
          "name": "stdout",
          "text": [
            "scorbe:11.03 percent\n"
          ]
        }
      ]
    },
    {
      "cell_type": "code",
      "source": [
        "import statsmodels.api as sm"
      ],
      "metadata": {
        "id": "GGIbBQrvo7Z3"
      },
      "execution_count": null,
      "outputs": []
    },
    {
      "cell_type": "code",
      "source": [
        "train_x = sm.add_constant(train_X)\n",
        "lm=sm.OLS(train_y,train_X).fit()"
      ],
      "metadata": {
        "id": "n0kLI0PBo-sT"
      },
      "execution_count": null,
      "outputs": []
    },
    {
      "cell_type": "code",
      "source": [
        "print(lm.summary())"
      ],
      "metadata": {
        "colab": {
          "base_uri": "https://localhost:8080/"
        },
        "id": "07-eQII0pAht",
        "outputId": "18df3fd2-1566-4e10-8682-7b22f682656a"
      },
      "execution_count": null,
      "outputs": [
        {
          "output_type": "stream",
          "name": "stdout",
          "text": [
            "                            OLS Regression Results                            \n",
            "==============================================================================\n",
            "Dep. Variable:           Weekly_Sales   R-squared:                       0.110\n",
            "Model:                            OLS   Adj. R-squared:                  0.110\n",
            "Method:                 Least Squares   F-statistic:                     3720.\n",
            "Date:                Sun, 20 Mar 2022   Prob (F-statistic):               0.00\n",
            "Time:                        18:43:20   Log-Likelihood:            -8.6782e+05\n",
            "No. Observations:              420212   AIC:                         1.736e+06\n",
            "Df Residuals:                  420197   BIC:                         1.736e+06\n",
            "Df Model:                          14                                         \n",
            "Covariance Type:            nonrobust                                         \n",
            "==================================================================================\n",
            "                     coef    std err          t      P>|t|      [0.025      0.975]\n",
            "----------------------------------------------------------------------------------\n",
            "Store             -0.0134      0.000    -56.412      0.000      -0.014      -0.013\n",
            "Dept               0.0016   9.65e-05     16.264      0.000       0.001       0.002\n",
            "IsHoliday         -0.0520      0.012     -4.169      0.000      -0.076      -0.028\n",
            "Type               0.1135      0.008     14.836      0.000       0.099       0.129\n",
            "Size            1.084e-05   8.38e-08    129.421      0.000    1.07e-05     1.1e-05\n",
            "Temperature       -0.0036      0.000    -21.059      0.000      -0.004      -0.003\n",
            "Fuel_Price         0.0329      0.008      4.130      0.000       0.017       0.049\n",
            "MarkDown1       1.071e-05   1.02e-06     10.539      0.000    8.72e-06    1.27e-05\n",
            "MarkDown2      -8.538e-07   6.17e-07     -1.384      0.166   -2.06e-06    3.56e-07\n",
            "MarkDown3       3.695e-06   5.59e-07      6.613      0.000     2.6e-06    4.79e-06\n",
            "MarkDown4      -6.834e-06   1.43e-06     -4.794      0.000   -9.63e-06   -4.04e-06\n",
            "Date_dayofweek    35.7844      3.199     11.187      0.000      29.515      42.054\n",
            "Date_month         0.0160      0.001     16.088      0.000       0.014       0.018\n",
            "Date_year         -0.0676      0.006    -10.621      0.000      -0.080      -0.055\n",
            "Date_day          -0.0004      0.000     -1.049      0.294      -0.001       0.000\n",
            "==============================================================================\n",
            "Omnibus:                    79726.360   Durbin-Watson:                   1.429\n",
            "Prob(Omnibus):                  0.000   Jarque-Bera (JB):           156534.468\n",
            "Skew:                          -1.156   Prob(JB):                         0.00\n",
            "Kurtosis:                       4.896   Cond. No.                     1.63e+08\n",
            "==============================================================================\n",
            "\n",
            "Warnings:\n",
            "[1] Standard Errors assume that the covariance matrix of the errors is correctly specified.\n",
            "[2] The condition number is large, 1.63e+08. This might indicate that there are\n",
            "strong multicollinearity or other numerical problems.\n"
          ]
        }
      ]
    },
    {
      "cell_type": "markdown",
      "source": [
        "2. Random Forest"
      ],
      "metadata": {
        "id": "-1xr9Fh4pEn5"
      }
    },
    {
      "cell_type": "code",
      "source": [
        "clf = RandomForestRegressor(n_estimators=100)\n",
        "clf.fit(train_X, train_y)\n",
        "y_pred_rf=clf.predict(test_X)\n",
        "acc_rf= round(clf.score(train_X, train_y) * 100, 2)\n",
        "print (\"Accuracy: %i %% \\n\"%acc_rf)"
      ],
      "metadata": {
        "colab": {
          "base_uri": "https://localhost:8080/"
        },
        "id": "p72slwU-pDzo",
        "outputId": "2f5ae323-1cdd-441f-d8ac-fee61a37b12c"
      },
      "execution_count": null,
      "outputs": [
        {
          "output_type": "stream",
          "name": "stdout",
          "text": [
            "Accuracy: 99 % \n",
            "\n"
          ]
        }
      ]
    },
    {
      "cell_type": "markdown",
      "source": [
        "3. Decision Tree"
      ],
      "metadata": {
        "id": "oMGo6noupKBb"
      }
    },
    {
      "cell_type": "code",
      "source": [
        "clf=DecisionTreeRegressor()\n",
        "clf.fit(train_X, train_y)\n",
        "y_pred_dt= clf.predict(test_X)\n",
        "acc_dt = round( clf.score(train_X, train_y) * 100, 2)\n",
        "print (str(acc_dt) + ' percent')"
      ],
      "metadata": {
        "colab": {
          "base_uri": "https://localhost:8080/"
        },
        "id": "5utMx1AlpKmO",
        "outputId": "ecf7a763-b845-407b-9031-f187bf6647f5"
      },
      "execution_count": null,
      "outputs": [
        {
          "output_type": "stream",
          "name": "stdout",
          "text": [
            "100.0 percent\n"
          ]
        }
      ]
    },
    {
      "cell_type": "markdown",
      "source": [
        "# Comparing Models\n",
        "Let's compare the accuracy score of all the regression models used above."
      ],
      "metadata": {
        "id": "yqoTeLckpOV3"
      }
    },
    {
      "cell_type": "code",
      "source": [
        "models = pd.DataFrame({\n",
        "    'Model': ['Linear Regression','Random Forest','Decision Tree'],\n",
        "    \n",
        "    'Score': [acc_linear, acc_rf,acc_dt]\n",
        "    })\n",
        "\n",
        "models.sort_values(by='Score', ascending=False)"
      ],
      "metadata": {
        "colab": {
          "base_uri": "https://localhost:8080/",
          "height": 143
        },
        "id": "-aU2h_4rpUOc",
        "outputId": "bf8daace-62ff-44e5-9204-23c74a386769"
      },
      "execution_count": null,
      "outputs": [
        {
          "output_type": "execute_result",
          "data": {
            "text/plain": [
              "               Model   Score\n",
              "2      Decision Tree  100.00\n",
              "1      Random Forest   99.63\n",
              "0  Linear Regression   11.03"
            ],
            "text/html": [
              "\n",
              "  <div id=\"df-edd9deb4-6179-4a82-a9a8-9e2a6abe22dc\">\n",
              "    <div class=\"colab-df-container\">\n",
              "      <div>\n",
              "<style scoped>\n",
              "    .dataframe tbody tr th:only-of-type {\n",
              "        vertical-align: middle;\n",
              "    }\n",
              "\n",
              "    .dataframe tbody tr th {\n",
              "        vertical-align: top;\n",
              "    }\n",
              "\n",
              "    .dataframe thead th {\n",
              "        text-align: right;\n",
              "    }\n",
              "</style>\n",
              "<table border=\"1\" class=\"dataframe\">\n",
              "  <thead>\n",
              "    <tr style=\"text-align: right;\">\n",
              "      <th></th>\n",
              "      <th>Model</th>\n",
              "      <th>Score</th>\n",
              "    </tr>\n",
              "  </thead>\n",
              "  <tbody>\n",
              "    <tr>\n",
              "      <th>2</th>\n",
              "      <td>Decision Tree</td>\n",
              "      <td>100.00</td>\n",
              "    </tr>\n",
              "    <tr>\n",
              "      <th>1</th>\n",
              "      <td>Random Forest</td>\n",
              "      <td>99.63</td>\n",
              "    </tr>\n",
              "    <tr>\n",
              "      <th>0</th>\n",
              "      <td>Linear Regression</td>\n",
              "      <td>11.03</td>\n",
              "    </tr>\n",
              "  </tbody>\n",
              "</table>\n",
              "</div>\n",
              "      <button class=\"colab-df-convert\" onclick=\"convertToInteractive('df-edd9deb4-6179-4a82-a9a8-9e2a6abe22dc')\"\n",
              "              title=\"Convert this dataframe to an interactive table.\"\n",
              "              style=\"display:none;\">\n",
              "        \n",
              "  <svg xmlns=\"http://www.w3.org/2000/svg\" height=\"24px\"viewBox=\"0 0 24 24\"\n",
              "       width=\"24px\">\n",
              "    <path d=\"M0 0h24v24H0V0z\" fill=\"none\"/>\n",
              "    <path d=\"M18.56 5.44l.94 2.06.94-2.06 2.06-.94-2.06-.94-.94-2.06-.94 2.06-2.06.94zm-11 1L8.5 8.5l.94-2.06 2.06-.94-2.06-.94L8.5 2.5l-.94 2.06-2.06.94zm10 10l.94 2.06.94-2.06 2.06-.94-2.06-.94-.94-2.06-.94 2.06-2.06.94z\"/><path d=\"M17.41 7.96l-1.37-1.37c-.4-.4-.92-.59-1.43-.59-.52 0-1.04.2-1.43.59L10.3 9.45l-7.72 7.72c-.78.78-.78 2.05 0 2.83L4 21.41c.39.39.9.59 1.41.59.51 0 1.02-.2 1.41-.59l7.78-7.78 2.81-2.81c.8-.78.8-2.07 0-2.86zM5.41 20L4 18.59l7.72-7.72 1.47 1.35L5.41 20z\"/>\n",
              "  </svg>\n",
              "      </button>\n",
              "      \n",
              "  <style>\n",
              "    .colab-df-container {\n",
              "      display:flex;\n",
              "      flex-wrap:wrap;\n",
              "      gap: 12px;\n",
              "    }\n",
              "\n",
              "    .colab-df-convert {\n",
              "      background-color: #E8F0FE;\n",
              "      border: none;\n",
              "      border-radius: 50%;\n",
              "      cursor: pointer;\n",
              "      display: none;\n",
              "      fill: #1967D2;\n",
              "      height: 32px;\n",
              "      padding: 0 0 0 0;\n",
              "      width: 32px;\n",
              "    }\n",
              "\n",
              "    .colab-df-convert:hover {\n",
              "      background-color: #E2EBFA;\n",
              "      box-shadow: 0px 1px 2px rgba(60, 64, 67, 0.3), 0px 1px 3px 1px rgba(60, 64, 67, 0.15);\n",
              "      fill: #174EA6;\n",
              "    }\n",
              "\n",
              "    [theme=dark] .colab-df-convert {\n",
              "      background-color: #3B4455;\n",
              "      fill: #D2E3FC;\n",
              "    }\n",
              "\n",
              "    [theme=dark] .colab-df-convert:hover {\n",
              "      background-color: #434B5C;\n",
              "      box-shadow: 0px 1px 3px 1px rgba(0, 0, 0, 0.15);\n",
              "      filter: drop-shadow(0px 1px 2px rgba(0, 0, 0, 0.3));\n",
              "      fill: #FFFFFF;\n",
              "    }\n",
              "  </style>\n",
              "\n",
              "      <script>\n",
              "        const buttonEl =\n",
              "          document.querySelector('#df-edd9deb4-6179-4a82-a9a8-9e2a6abe22dc button.colab-df-convert');\n",
              "        buttonEl.style.display =\n",
              "          google.colab.kernel.accessAllowed ? 'block' : 'none';\n",
              "\n",
              "        async function convertToInteractive(key) {\n",
              "          const element = document.querySelector('#df-edd9deb4-6179-4a82-a9a8-9e2a6abe22dc');\n",
              "          const dataTable =\n",
              "            await google.colab.kernel.invokeFunction('convertToInteractive',\n",
              "                                                     [key], {});\n",
              "          if (!dataTable) return;\n",
              "\n",
              "          const docLinkHtml = 'Like what you see? Visit the ' +\n",
              "            '<a target=\"_blank\" href=https://colab.research.google.com/notebooks/data_table.ipynb>data table notebook</a>'\n",
              "            + ' to learn more about interactive tables.';\n",
              "          element.innerHTML = '';\n",
              "          dataTable['output_type'] = 'display_data';\n",
              "          await google.colab.output.renderOutput(dataTable, element);\n",
              "          const docLink = document.createElement('div');\n",
              "          docLink.innerHTML = docLinkHtml;\n",
              "          element.appendChild(docLink);\n",
              "        }\n",
              "      </script>\n",
              "    </div>\n",
              "  </div>\n",
              "  "
            ]
          },
          "metadata": {},
          "execution_count": 75
        }
      ]
    }
  ]
}